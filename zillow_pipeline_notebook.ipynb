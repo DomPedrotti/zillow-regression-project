{
 "cells": [
  {
   "cell_type": "code",
   "execution_count": 1,
   "metadata": {},
   "outputs": [],
   "source": [
    "import pandas as pd\n",
    "import geopandas\n",
    "import numpy as np\n",
    "\n",
    "import matplotlib.pyplot as plt\n",
    "import seaborn as sns\n",
    "from sklearn.model_selection import train_test_split\n",
    "from sklearn.linear_model import LinearRegression, LassoCV, RidgeCV\n",
    "from sklearn.preprocessing import StandardScaler, MinMaxScaler\n",
    "from sklearn.metrics import mean_squared_error, r2_score, explained_variance_score\n",
    "from math import sqrt\n",
    "from statsmodels.formula.api import ols\n",
    "import warnings\n",
    "warnings.filterwarnings(\"ignore\")\n",
    "\n",
    "import env\n",
    "import split_scale as ss\n",
    "import features as feat\n",
    "import evaluate as ev\n",
    "import modeling as mod"
   ]
  },
  {
   "cell_type": "markdown",
   "metadata": {},
   "source": [
    "## Data Acquisition"
   ]
  },
  {
   "cell_type": "code",
   "execution_count": 2,
   "metadata": {},
   "outputs": [],
   "source": [
    "query = '''\n",
    "select *\n",
    "from properties_2017\n",
    "join predictions_2017 as pred\n",
    "using(parcelid)\n",
    "where pred.`transactiondate` like '%%-05-%%' or pred.`transactiondate` like '%%-06-%%'\n",
    "'''\n",
    "raw_df = pd.read_sql(query, env.get_db_url('zillow'))"
   ]
  },
  {
   "cell_type": "code",
   "execution_count": 3,
   "metadata": {},
   "outputs": [
    {
     "data": {
      "text/html": [
       "<div>\n",
       "<style scoped>\n",
       "    .dataframe tbody tr th:only-of-type {\n",
       "        vertical-align: middle;\n",
       "    }\n",
       "\n",
       "    .dataframe tbody tr th {\n",
       "        vertical-align: top;\n",
       "    }\n",
       "\n",
       "    .dataframe thead th {\n",
       "        text-align: right;\n",
       "    }\n",
       "</style>\n",
       "<table border=\"1\" class=\"dataframe\">\n",
       "  <thead>\n",
       "    <tr style=\"text-align: right;\">\n",
       "      <th></th>\n",
       "      <th>parcelid</th>\n",
       "      <th>id</th>\n",
       "      <th>airconditioningtypeid</th>\n",
       "      <th>architecturalstyletypeid</th>\n",
       "      <th>basementsqft</th>\n",
       "      <th>bathroomcnt</th>\n",
       "      <th>bedroomcnt</th>\n",
       "      <th>buildingclasstypeid</th>\n",
       "      <th>buildingqualitytypeid</th>\n",
       "      <th>calculatedbathnbr</th>\n",
       "      <th>...</th>\n",
       "      <th>taxvaluedollarcnt</th>\n",
       "      <th>assessmentyear</th>\n",
       "      <th>landtaxvaluedollarcnt</th>\n",
       "      <th>taxamount</th>\n",
       "      <th>taxdelinquencyflag</th>\n",
       "      <th>taxdelinquencyyear</th>\n",
       "      <th>censustractandblock</th>\n",
       "      <th>id</th>\n",
       "      <th>logerror</th>\n",
       "      <th>transactiondate</th>\n",
       "    </tr>\n",
       "  </thead>\n",
       "  <tbody>\n",
       "    <tr>\n",
       "      <th>0</th>\n",
       "      <td>11393337</td>\n",
       "      <td>2463969</td>\n",
       "      <td>NaN</td>\n",
       "      <td>NaN</td>\n",
       "      <td>NaN</td>\n",
       "      <td>3.0</td>\n",
       "      <td>3.0</td>\n",
       "      <td>NaN</td>\n",
       "      <td>4.0</td>\n",
       "      <td>3.0</td>\n",
       "      <td>...</td>\n",
       "      <td>43439.0</td>\n",
       "      <td>2016.0</td>\n",
       "      <td>22755.0</td>\n",
       "      <td>756.94</td>\n",
       "      <td>Y</td>\n",
       "      <td>14.0</td>\n",
       "      <td>6.037235e+13</td>\n",
       "      <td>117</td>\n",
       "      <td>0.086137</td>\n",
       "      <td>2017-06-08</td>\n",
       "    </tr>\n",
       "    <tr>\n",
       "      <th>1</th>\n",
       "      <td>11289917</td>\n",
       "      <td>2061546</td>\n",
       "      <td>1.0</td>\n",
       "      <td>NaN</td>\n",
       "      <td>NaN</td>\n",
       "      <td>2.0</td>\n",
       "      <td>3.0</td>\n",
       "      <td>NaN</td>\n",
       "      <td>6.0</td>\n",
       "      <td>2.0</td>\n",
       "      <td>...</td>\n",
       "      <td>136104.0</td>\n",
       "      <td>2016.0</td>\n",
       "      <td>27214.0</td>\n",
       "      <td>2319.90</td>\n",
       "      <td>Y</td>\n",
       "      <td>15.0</td>\n",
       "      <td>6.037901e+13</td>\n",
       "      <td>1248</td>\n",
       "      <td>-0.362001</td>\n",
       "      <td>2017-06-23</td>\n",
       "    </tr>\n",
       "    <tr>\n",
       "      <th>2</th>\n",
       "      <td>11705026</td>\n",
       "      <td>1834372</td>\n",
       "      <td>NaN</td>\n",
       "      <td>NaN</td>\n",
       "      <td>NaN</td>\n",
       "      <td>1.0</td>\n",
       "      <td>2.0</td>\n",
       "      <td>NaN</td>\n",
       "      <td>6.0</td>\n",
       "      <td>1.0</td>\n",
       "      <td>...</td>\n",
       "      <td>35606.0</td>\n",
       "      <td>2016.0</td>\n",
       "      <td>23624.0</td>\n",
       "      <td>543.69</td>\n",
       "      <td>None</td>\n",
       "      <td>NaN</td>\n",
       "      <td>6.037232e+13</td>\n",
       "      <td>1772</td>\n",
       "      <td>-0.146056</td>\n",
       "      <td>2017-06-30</td>\n",
       "    </tr>\n",
       "    <tr>\n",
       "      <th>3</th>\n",
       "      <td>14269464</td>\n",
       "      <td>1923117</td>\n",
       "      <td>NaN</td>\n",
       "      <td>NaN</td>\n",
       "      <td>NaN</td>\n",
       "      <td>3.0</td>\n",
       "      <td>4.0</td>\n",
       "      <td>NaN</td>\n",
       "      <td>NaN</td>\n",
       "      <td>3.0</td>\n",
       "      <td>...</td>\n",
       "      <td>880456.0</td>\n",
       "      <td>2016.0</td>\n",
       "      <td>445569.0</td>\n",
       "      <td>9819.72</td>\n",
       "      <td>None</td>\n",
       "      <td>NaN</td>\n",
       "      <td>6.059064e+13</td>\n",
       "      <td>2028</td>\n",
       "      <td>0.021085</td>\n",
       "      <td>2017-06-01</td>\n",
       "    </tr>\n",
       "    <tr>\n",
       "      <th>4</th>\n",
       "      <td>11389003</td>\n",
       "      <td>2121349</td>\n",
       "      <td>NaN</td>\n",
       "      <td>NaN</td>\n",
       "      <td>NaN</td>\n",
       "      <td>2.0</td>\n",
       "      <td>3.0</td>\n",
       "      <td>NaN</td>\n",
       "      <td>6.0</td>\n",
       "      <td>2.0</td>\n",
       "      <td>...</td>\n",
       "      <td>614000.0</td>\n",
       "      <td>2016.0</td>\n",
       "      <td>449000.0</td>\n",
       "      <td>7673.19</td>\n",
       "      <td>None</td>\n",
       "      <td>NaN</td>\n",
       "      <td>6.037703e+13</td>\n",
       "      <td>3273</td>\n",
       "      <td>-0.325393</td>\n",
       "      <td>2017-06-01</td>\n",
       "    </tr>\n",
       "  </tbody>\n",
       "</table>\n",
       "<p>5 rows × 62 columns</p>\n",
       "</div>"
      ],
      "text/plain": [
       "   parcelid       id  airconditioningtypeid  architecturalstyletypeid  \\\n",
       "0  11393337  2463969                    NaN                       NaN   \n",
       "1  11289917  2061546                    1.0                       NaN   \n",
       "2  11705026  1834372                    NaN                       NaN   \n",
       "3  14269464  1923117                    NaN                       NaN   \n",
       "4  11389003  2121349                    NaN                       NaN   \n",
       "\n",
       "   basementsqft  bathroomcnt  bedroomcnt  buildingclasstypeid  \\\n",
       "0           NaN          3.0         3.0                  NaN   \n",
       "1           NaN          2.0         3.0                  NaN   \n",
       "2           NaN          1.0         2.0                  NaN   \n",
       "3           NaN          3.0         4.0                  NaN   \n",
       "4           NaN          2.0         3.0                  NaN   \n",
       "\n",
       "   buildingqualitytypeid  calculatedbathnbr  ...  taxvaluedollarcnt  \\\n",
       "0                    4.0                3.0  ...            43439.0   \n",
       "1                    6.0                2.0  ...           136104.0   \n",
       "2                    6.0                1.0  ...            35606.0   \n",
       "3                    NaN                3.0  ...           880456.0   \n",
       "4                    6.0                2.0  ...           614000.0   \n",
       "\n",
       "   assessmentyear  landtaxvaluedollarcnt  taxamount  taxdelinquencyflag  \\\n",
       "0          2016.0                22755.0     756.94                   Y   \n",
       "1          2016.0                27214.0    2319.90                   Y   \n",
       "2          2016.0                23624.0     543.69                None   \n",
       "3          2016.0               445569.0    9819.72                None   \n",
       "4          2016.0               449000.0    7673.19                None   \n",
       "\n",
       "   taxdelinquencyyear  censustractandblock    id  logerror  transactiondate  \n",
       "0                14.0         6.037235e+13   117  0.086137       2017-06-08  \n",
       "1                15.0         6.037901e+13  1248 -0.362001       2017-06-23  \n",
       "2                 NaN         6.037232e+13  1772 -0.146056       2017-06-30  \n",
       "3                 NaN         6.059064e+13  2028  0.021085       2017-06-01  \n",
       "4                 NaN         6.037703e+13  3273 -0.325393       2017-06-01  \n",
       "\n",
       "[5 rows x 62 columns]"
      ]
     },
     "execution_count": 3,
     "metadata": {},
     "output_type": "execute_result"
    }
   ],
   "source": [
    "raw_df.head()"
   ]
  },
  {
   "cell_type": "code",
   "execution_count": 4,
   "metadata": {},
   "outputs": [
    {
     "name": "stdout",
     "output_type": "stream",
     "text": [
      "<class 'pandas.core.frame.DataFrame'>\n",
      "RangeIndex: 21944 entries, 0 to 21943\n",
      "Data columns (total 62 columns):\n",
      "parcelid                        21944 non-null int64\n",
      "id                              21944 non-null int64\n",
      "airconditioningtypeid           7088 non-null float64\n",
      "architecturalstyletypeid        49 non-null float64\n",
      "basementsqft                    12 non-null float64\n",
      "bathroomcnt                     21938 non-null float64\n",
      "bedroomcnt                      21938 non-null float64\n",
      "buildingclasstypeid             4 non-null float64\n",
      "buildingqualitytypeid           13949 non-null float64\n",
      "calculatedbathnbr               21762 non-null float64\n",
      "decktypeid                      179 non-null float64\n",
      "finishedfloor1squarefeet        1765 non-null float64\n",
      "calculatedfinishedsquarefeet    21883 non-null float64\n",
      "finishedsquarefeet12            20951 non-null float64\n",
      "finishedsquarefeet13            12 non-null float64\n",
      "finishedsquarefeet15            810 non-null float64\n",
      "finishedsquarefeet50            1765 non-null float64\n",
      "finishedsquarefeet6             110 non-null float64\n",
      "fips                            21938 non-null float64\n",
      "fireplacecnt                    2432 non-null float64\n",
      "fullbathcnt                     21762 non-null float64\n",
      "garagecarcnt                    7368 non-null float64\n",
      "garagetotalsqft                 7368 non-null float64\n",
      "hashottuborspa                  480 non-null float64\n",
      "heatingorsystemtypeid           13889 non-null float64\n",
      "latitude                        21938 non-null float64\n",
      "longitude                       21938 non-null float64\n",
      "lotsizesquarefeet               19642 non-null float64\n",
      "poolcnt                         4658 non-null float64\n",
      "poolsizesum                     269 non-null float64\n",
      "pooltypeid10                    138 non-null float64\n",
      "pooltypeid2                     342 non-null float64\n",
      "pooltypeid7                     4313 non-null float64\n",
      "propertycountylandusecode       21938 non-null object\n",
      "propertylandusetypeid           21938 non-null float64\n",
      "propertyzoningdesc              14147 non-null object\n",
      "rawcensustractandblock          21938 non-null float64\n",
      "regionidcity                    21541 non-null float64\n",
      "regionidcounty                  21938 non-null float64\n",
      "regionidneighborhood            8806 non-null float64\n",
      "regionidzip                     21924 non-null float64\n",
      "roomcnt                         21938 non-null float64\n",
      "storytypeid                     12 non-null float64\n",
      "threequarterbathnbr             2958 non-null float64\n",
      "typeconstructiontypeid          51 non-null float64\n",
      "unitcnt                         14196 non-null float64\n",
      "yardbuildingsqft17              724 non-null float64\n",
      "yardbuildingsqft26              23 non-null float64\n",
      "yearbuilt                       21857 non-null float64\n",
      "numberofstories                 5046 non-null float64\n",
      "fireplaceflag                   43 non-null float64\n",
      "structuretaxvaluedollarcnt      21902 non-null float64\n",
      "taxvaluedollarcnt               21938 non-null float64\n",
      "assessmentyear                  21938 non-null float64\n",
      "landtaxvaluedollarcnt           21938 non-null float64\n",
      "taxamount                       21937 non-null float64\n",
      "taxdelinquencyflag              741 non-null object\n",
      "taxdelinquencyyear              741 non-null float64\n",
      "censustractandblock             21857 non-null float64\n",
      "id                              21944 non-null int64\n",
      "logerror                        21944 non-null float64\n",
      "transactiondate                 21944 non-null object\n",
      "dtypes: float64(55), int64(3), object(4)\n",
      "memory usage: 10.4+ MB\n"
     ]
    }
   ],
   "source": [
    "raw_df.info()"
   ]
  },
  {
   "cell_type": "code",
   "execution_count": 5,
   "metadata": {},
   "outputs": [],
   "source": [
    "raw_df = raw_df.drop('id', axis = 1)"
   ]
  },
  {
   "cell_type": "markdown",
   "metadata": {},
   "source": [
    "- drop non-number columns"
   ]
  },
  {
   "cell_type": "code",
   "execution_count": 6,
   "metadata": {},
   "outputs": [],
   "source": [
    "df = raw_df.select_dtypes(exclude=['object'])"
   ]
  },
  {
   "cell_type": "markdown",
   "metadata": {},
   "source": [
    "- boolean columns (dummy variables)"
   ]
  },
  {
   "cell_type": "code",
   "execution_count": 7,
   "metadata": {},
   "outputs": [],
   "source": [
    "df['has_pool'] = (df.poolcnt >= 1).astype(int)\n",
    "df['has_yardbuilding'] = ((df.yardbuildingsqft17 >= 0)|(df.yardbuildingsqft26 >= 0)).astype(int)\n",
    "df['has_fireplace'] = (df.fireplacecnt >= 1).astype(int)\n",
    "df['has_basement'] = (df.basementsqft >= 1).astype(int)\n",
    "df['has_garage'] = (df.garagecarcnt >= 1).astype(int)"
   ]
  },
  {
   "cell_type": "markdown",
   "metadata": {},
   "source": [
    "- drop columns with insuffecient data"
   ]
  },
  {
   "cell_type": "code",
   "execution_count": 8,
   "metadata": {},
   "outputs": [],
   "source": [
    "df = df[df.columns[df.isnull().mean() < 0.2]]"
   ]
  },
  {
   "cell_type": "markdown",
   "metadata": {},
   "source": [
    "- drop redundant columns"
   ]
  },
  {
   "cell_type": "code",
   "execution_count": 9,
   "metadata": {},
   "outputs": [],
   "source": [
    "df = df.drop('calculatedbathnbr', axis = 1).drop('finishedsquarefeet12', axis = 1).drop('fullbathcnt', axis = 1)"
   ]
  },
  {
   "cell_type": "markdown",
   "metadata": {},
   "source": [
    "- drop columns with high correlation"
   ]
  },
  {
   "cell_type": "code",
   "execution_count": 10,
   "metadata": {},
   "outputs": [],
   "source": [
    "df = df.drop('rawcensustractandblock', axis = 1).drop('structuretaxvaluedollarcnt', axis = 1).drop('landtaxvaluedollarcnt', axis = 1).drop('taxamount', axis = 1).drop('censustractandblock', axis = 1).drop('logerror', axis = 1)"
   ]
  },
  {
   "cell_type": "markdown",
   "metadata": {},
   "source": [
    "- drop columns that represent categorical variables"
   ]
  },
  {
   "cell_type": "code",
   "execution_count": 11,
   "metadata": {},
   "outputs": [],
   "source": [
    "df = df.drop('parcelid', axis = 1).drop('propertylandusetypeid', axis = 1).drop('regionidcity', axis = 1).drop('regionidcounty', axis = 1).drop('regionidzip', axis = 1).drop('fips', axis = 1)"
   ]
  },
  {
   "cell_type": "markdown",
   "metadata": {},
   "source": [
    "- drop columns with no variance"
   ]
  },
  {
   "cell_type": "code",
   "execution_count": 12,
   "metadata": {},
   "outputs": [],
   "source": [
    "df = df.drop('assessmentyear', axis = 1)"
   ]
  },
  {
   "cell_type": "markdown",
   "metadata": {},
   "source": [
    "- drop nulls"
   ]
  },
  {
   "cell_type": "code",
   "execution_count": 13,
   "metadata": {},
   "outputs": [],
   "source": [
    "df = df.dropna()"
   ]
  },
  {
   "cell_type": "code",
   "execution_count": 14,
   "metadata": {},
   "outputs": [
    {
     "data": {
      "text/html": [
       "<div>\n",
       "<style scoped>\n",
       "    .dataframe tbody tr th:only-of-type {\n",
       "        vertical-align: middle;\n",
       "    }\n",
       "\n",
       "    .dataframe tbody tr th {\n",
       "        vertical-align: top;\n",
       "    }\n",
       "\n",
       "    .dataframe thead th {\n",
       "        text-align: right;\n",
       "    }\n",
       "</style>\n",
       "<table border=\"1\" class=\"dataframe\">\n",
       "  <thead>\n",
       "    <tr style=\"text-align: right;\">\n",
       "      <th></th>\n",
       "      <th>bathroomcnt</th>\n",
       "      <th>bedroomcnt</th>\n",
       "      <th>calculatedfinishedsquarefeet</th>\n",
       "      <th>latitude</th>\n",
       "      <th>longitude</th>\n",
       "      <th>lotsizesquarefeet</th>\n",
       "      <th>roomcnt</th>\n",
       "      <th>yearbuilt</th>\n",
       "      <th>taxvaluedollarcnt</th>\n",
       "      <th>has_pool</th>\n",
       "      <th>has_yardbuilding</th>\n",
       "      <th>has_fireplace</th>\n",
       "      <th>has_basement</th>\n",
       "      <th>has_garage</th>\n",
       "    </tr>\n",
       "  </thead>\n",
       "  <tbody>\n",
       "    <tr>\n",
       "      <th>count</th>\n",
       "      <td>19581.000000</td>\n",
       "      <td>19581.000000</td>\n",
       "      <td>19581.000000</td>\n",
       "      <td>1.958100e+04</td>\n",
       "      <td>1.958100e+04</td>\n",
       "      <td>1.958100e+04</td>\n",
       "      <td>19581.000000</td>\n",
       "      <td>19581.000000</td>\n",
       "      <td>1.958100e+04</td>\n",
       "      <td>19581.000000</td>\n",
       "      <td>19581.000000</td>\n",
       "      <td>19581.000000</td>\n",
       "      <td>19581.000000</td>\n",
       "      <td>19581.000000</td>\n",
       "    </tr>\n",
       "    <tr>\n",
       "      <th>mean</th>\n",
       "      <td>2.343471</td>\n",
       "      <td>3.155559</td>\n",
       "      <td>1853.588530</td>\n",
       "      <td>3.403116e+07</td>\n",
       "      <td>-1.182260e+08</td>\n",
       "      <td>2.771234e+04</td>\n",
       "      <td>1.516215</td>\n",
       "      <td>1966.398090</td>\n",
       "      <td>5.087578e+05</td>\n",
       "      <td>0.231704</td>\n",
       "      <td>0.033859</td>\n",
       "      <td>0.113375</td>\n",
       "      <td>0.000613</td>\n",
       "      <td>0.282978</td>\n",
       "    </tr>\n",
       "    <tr>\n",
       "      <th>std</th>\n",
       "      <td>1.011975</td>\n",
       "      <td>1.108611</td>\n",
       "      <td>990.605271</td>\n",
       "      <td>2.601101e+05</td>\n",
       "      <td>3.460624e+05</td>\n",
       "      <td>9.087107e+04</td>\n",
       "      <td>2.902520</td>\n",
       "      <td>23.477264</td>\n",
       "      <td>6.611425e+05</td>\n",
       "      <td>0.421932</td>\n",
       "      <td>0.180872</td>\n",
       "      <td>0.317059</td>\n",
       "      <td>0.024749</td>\n",
       "      <td>0.450458</td>\n",
       "    </tr>\n",
       "    <tr>\n",
       "      <th>min</th>\n",
       "      <td>0.000000</td>\n",
       "      <td>0.000000</td>\n",
       "      <td>242.000000</td>\n",
       "      <td>3.334085e+07</td>\n",
       "      <td>-1.193883e+08</td>\n",
       "      <td>4.350000e+02</td>\n",
       "      <td>0.000000</td>\n",
       "      <td>1824.000000</td>\n",
       "      <td>1.050400e+04</td>\n",
       "      <td>0.000000</td>\n",
       "      <td>0.000000</td>\n",
       "      <td>0.000000</td>\n",
       "      <td>0.000000</td>\n",
       "      <td>0.000000</td>\n",
       "    </tr>\n",
       "    <tr>\n",
       "      <th>25%</th>\n",
       "      <td>2.000000</td>\n",
       "      <td>2.000000</td>\n",
       "      <td>1223.000000</td>\n",
       "      <td>3.384145e+07</td>\n",
       "      <td>-1.184290e+08</td>\n",
       "      <td>5.696000e+03</td>\n",
       "      <td>0.000000</td>\n",
       "      <td>1952.000000</td>\n",
       "      <td>2.071050e+05</td>\n",
       "      <td>0.000000</td>\n",
       "      <td>0.000000</td>\n",
       "      <td>0.000000</td>\n",
       "      <td>0.000000</td>\n",
       "      <td>0.000000</td>\n",
       "    </tr>\n",
       "    <tr>\n",
       "      <th>50%</th>\n",
       "      <td>2.000000</td>\n",
       "      <td>3.000000</td>\n",
       "      <td>1600.000000</td>\n",
       "      <td>3.404454e+07</td>\n",
       "      <td>-1.182029e+08</td>\n",
       "      <td>7.202000e+03</td>\n",
       "      <td>0.000000</td>\n",
       "      <td>1965.000000</td>\n",
       "      <td>3.670000e+05</td>\n",
       "      <td>0.000000</td>\n",
       "      <td>0.000000</td>\n",
       "      <td>0.000000</td>\n",
       "      <td>0.000000</td>\n",
       "      <td>0.000000</td>\n",
       "    </tr>\n",
       "    <tr>\n",
       "      <th>75%</th>\n",
       "      <td>3.000000</td>\n",
       "      <td>4.000000</td>\n",
       "      <td>2219.000000</td>\n",
       "      <td>3.418275e+07</td>\n",
       "      <td>-1.179751e+08</td>\n",
       "      <td>1.159000e+04</td>\n",
       "      <td>0.000000</td>\n",
       "      <td>1985.000000</td>\n",
       "      <td>6.030000e+05</td>\n",
       "      <td>0.000000</td>\n",
       "      <td>0.000000</td>\n",
       "      <td>0.000000</td>\n",
       "      <td>0.000000</td>\n",
       "      <td>1.000000</td>\n",
       "    </tr>\n",
       "    <tr>\n",
       "      <th>max</th>\n",
       "      <td>11.000000</td>\n",
       "      <td>12.000000</td>\n",
       "      <td>35640.000000</td>\n",
       "      <td>3.477966e+07</td>\n",
       "      <td>-1.175554e+08</td>\n",
       "      <td>3.589145e+06</td>\n",
       "      <td>14.000000</td>\n",
       "      <td>2015.000000</td>\n",
       "      <td>2.385837e+07</td>\n",
       "      <td>1.000000</td>\n",
       "      <td>1.000000</td>\n",
       "      <td>1.000000</td>\n",
       "      <td>1.000000</td>\n",
       "      <td>1.000000</td>\n",
       "    </tr>\n",
       "  </tbody>\n",
       "</table>\n",
       "</div>"
      ],
      "text/plain": [
       "        bathroomcnt    bedroomcnt  calculatedfinishedsquarefeet      latitude  \\\n",
       "count  19581.000000  19581.000000                  19581.000000  1.958100e+04   \n",
       "mean       2.343471      3.155559                   1853.588530  3.403116e+07   \n",
       "std        1.011975      1.108611                    990.605271  2.601101e+05   \n",
       "min        0.000000      0.000000                    242.000000  3.334085e+07   \n",
       "25%        2.000000      2.000000                   1223.000000  3.384145e+07   \n",
       "50%        2.000000      3.000000                   1600.000000  3.404454e+07   \n",
       "75%        3.000000      4.000000                   2219.000000  3.418275e+07   \n",
       "max       11.000000     12.000000                  35640.000000  3.477966e+07   \n",
       "\n",
       "          longitude  lotsizesquarefeet       roomcnt     yearbuilt  \\\n",
       "count  1.958100e+04       1.958100e+04  19581.000000  19581.000000   \n",
       "mean  -1.182260e+08       2.771234e+04      1.516215   1966.398090   \n",
       "std    3.460624e+05       9.087107e+04      2.902520     23.477264   \n",
       "min   -1.193883e+08       4.350000e+02      0.000000   1824.000000   \n",
       "25%   -1.184290e+08       5.696000e+03      0.000000   1952.000000   \n",
       "50%   -1.182029e+08       7.202000e+03      0.000000   1965.000000   \n",
       "75%   -1.179751e+08       1.159000e+04      0.000000   1985.000000   \n",
       "max   -1.175554e+08       3.589145e+06     14.000000   2015.000000   \n",
       "\n",
       "       taxvaluedollarcnt      has_pool  has_yardbuilding  has_fireplace  \\\n",
       "count       1.958100e+04  19581.000000      19581.000000   19581.000000   \n",
       "mean        5.087578e+05      0.231704          0.033859       0.113375   \n",
       "std         6.611425e+05      0.421932          0.180872       0.317059   \n",
       "min         1.050400e+04      0.000000          0.000000       0.000000   \n",
       "25%         2.071050e+05      0.000000          0.000000       0.000000   \n",
       "50%         3.670000e+05      0.000000          0.000000       0.000000   \n",
       "75%         6.030000e+05      0.000000          0.000000       0.000000   \n",
       "max         2.385837e+07      1.000000          1.000000       1.000000   \n",
       "\n",
       "       has_basement    has_garage  \n",
       "count  19581.000000  19581.000000  \n",
       "mean       0.000613      0.282978  \n",
       "std        0.024749      0.450458  \n",
       "min        0.000000      0.000000  \n",
       "25%        0.000000      0.000000  \n",
       "50%        0.000000      0.000000  \n",
       "75%        0.000000      1.000000  \n",
       "max        1.000000      1.000000  "
      ]
     },
     "execution_count": 14,
     "metadata": {},
     "output_type": "execute_result"
    }
   ],
   "source": [
    "df.describe()"
   ]
  },
  {
   "cell_type": "markdown",
   "metadata": {},
   "source": [
    "- drop outliers"
   ]
  },
  {
   "cell_type": "code",
   "execution_count": 15,
   "metadata": {},
   "outputs": [],
   "source": [
    "df = df[df.calculatedfinishedsquarefeet < 20000]\n",
    "df = df[df.taxvaluedollarcnt < 10_000_000] "
   ]
  },
  {
   "cell_type": "code",
   "execution_count": null,
   "metadata": {},
   "outputs": [],
   "source": []
  },
  {
   "cell_type": "markdown",
   "metadata": {},
   "source": [
    "## Explore"
   ]
  },
  {
   "cell_type": "markdown",
   "metadata": {},
   "source": [
    "- establish features and target"
   ]
  },
  {
   "cell_type": "code",
   "execution_count": 16,
   "metadata": {},
   "outputs": [],
   "source": [
    "target = ['taxvaluedollarcnt']\n",
    "feature = ['bathroomcnt', 'bedroomcnt', 'calculatedfinishedsquarefeet', 'latitude',\n",
    "           'longitude', 'lotsizesquarefeet', 'roomcnt', 'yearbuilt', 'has_pool', \n",
    "           'has_yardbuilding', 'has_fireplace', 'has_basement', 'has_garage']"
   ]
  },
  {
   "cell_type": "code",
   "execution_count": 17,
   "metadata": {},
   "outputs": [
    {
     "data": {
      "text/plain": [
       "Index(['bathroomcnt', 'bedroomcnt', 'calculatedfinishedsquarefeet', 'latitude',\n",
       "       'longitude', 'lotsizesquarefeet', 'roomcnt', 'yearbuilt',\n",
       "       'taxvaluedollarcnt', 'has_pool', 'has_yardbuilding', 'has_fireplace',\n",
       "       'has_basement', 'has_garage'],\n",
       "      dtype='object')"
      ]
     },
     "execution_count": 17,
     "metadata": {},
     "output_type": "execute_result"
    }
   ],
   "source": [
    "df.columns"
   ]
  },
  {
   "cell_type": "markdown",
   "metadata": {},
   "source": [
    "- check correlation\n",
    "- bathroom count, bedroomcount, house squarefootage, year built, and having a pool seem to have the srtongest correlation with property value"
   ]
  },
  {
   "cell_type": "code",
   "execution_count": 18,
   "metadata": {},
   "outputs": [
    {
     "data": {
      "text/html": [
       "<div>\n",
       "<style scoped>\n",
       "    .dataframe tbody tr th:only-of-type {\n",
       "        vertical-align: middle;\n",
       "    }\n",
       "\n",
       "    .dataframe tbody tr th {\n",
       "        vertical-align: top;\n",
       "    }\n",
       "\n",
       "    .dataframe thead th {\n",
       "        text-align: right;\n",
       "    }\n",
       "</style>\n",
       "<table border=\"1\" class=\"dataframe\">\n",
       "  <thead>\n",
       "    <tr style=\"text-align: right;\">\n",
       "      <th></th>\n",
       "      <th>bathroomcnt</th>\n",
       "      <th>bedroomcnt</th>\n",
       "      <th>calculatedfinishedsquarefeet</th>\n",
       "      <th>latitude</th>\n",
       "      <th>longitude</th>\n",
       "      <th>lotsizesquarefeet</th>\n",
       "      <th>roomcnt</th>\n",
       "      <th>yearbuilt</th>\n",
       "      <th>taxvaluedollarcnt</th>\n",
       "      <th>has_pool</th>\n",
       "      <th>has_yardbuilding</th>\n",
       "      <th>has_fireplace</th>\n",
       "      <th>has_basement</th>\n",
       "      <th>has_garage</th>\n",
       "    </tr>\n",
       "  </thead>\n",
       "  <tbody>\n",
       "    <tr>\n",
       "      <th>bathroomcnt</th>\n",
       "      <td>1.000000</td>\n",
       "      <td>0.620682</td>\n",
       "      <td>0.786310</td>\n",
       "      <td>-0.003366</td>\n",
       "      <td>-0.002239</td>\n",
       "      <td>0.014695</td>\n",
       "      <td>0.038073</td>\n",
       "      <td>0.418284</td>\n",
       "      <td>0.492763</td>\n",
       "      <td>0.230272</td>\n",
       "      <td>0.022203</td>\n",
       "      <td>0.064520</td>\n",
       "      <td>0.006979</td>\n",
       "      <td>0.113085</td>\n",
       "    </tr>\n",
       "    <tr>\n",
       "      <th>bedroomcnt</th>\n",
       "      <td>0.620682</td>\n",
       "      <td>1.000000</td>\n",
       "      <td>0.623952</td>\n",
       "      <td>0.004991</td>\n",
       "      <td>0.049270</td>\n",
       "      <td>-0.140634</td>\n",
       "      <td>0.173464</td>\n",
       "      <td>0.134913</td>\n",
       "      <td>0.245550</td>\n",
       "      <td>0.088600</td>\n",
       "      <td>0.060922</td>\n",
       "      <td>0.122080</td>\n",
       "      <td>0.002141</td>\n",
       "      <td>0.175280</td>\n",
       "    </tr>\n",
       "    <tr>\n",
       "      <th>calculatedfinishedsquarefeet</th>\n",
       "      <td>0.786310</td>\n",
       "      <td>0.623952</td>\n",
       "      <td>1.000000</td>\n",
       "      <td>-0.059555</td>\n",
       "      <td>0.034203</td>\n",
       "      <td>-0.063546</td>\n",
       "      <td>0.102631</td>\n",
       "      <td>0.296264</td>\n",
       "      <td>0.596790</td>\n",
       "      <td>0.241858</td>\n",
       "      <td>0.042205</td>\n",
       "      <td>0.113957</td>\n",
       "      <td>0.008966</td>\n",
       "      <td>0.172493</td>\n",
       "    </tr>\n",
       "    <tr>\n",
       "      <th>latitude</th>\n",
       "      <td>-0.003366</td>\n",
       "      <td>0.004991</td>\n",
       "      <td>-0.059555</td>\n",
       "      <td>1.000000</td>\n",
       "      <td>-0.542187</td>\n",
       "      <td>0.096326</td>\n",
       "      <td>-0.252341</td>\n",
       "      <td>0.068765</td>\n",
       "      <td>-0.152361</td>\n",
       "      <td>0.033456</td>\n",
       "      <td>0.153194</td>\n",
       "      <td>-0.057308</td>\n",
       "      <td>0.022958</td>\n",
       "      <td>-0.429306</td>\n",
       "    </tr>\n",
       "    <tr>\n",
       "      <th>longitude</th>\n",
       "      <td>-0.002239</td>\n",
       "      <td>0.049270</td>\n",
       "      <td>0.034203</td>\n",
       "      <td>-0.542187</td>\n",
       "      <td>1.000000</td>\n",
       "      <td>-0.082455</td>\n",
       "      <td>-0.020602</td>\n",
       "      <td>0.038446</td>\n",
       "      <td>-0.013073</td>\n",
       "      <td>-0.041279</td>\n",
       "      <td>-0.391298</td>\n",
       "      <td>-0.208180</td>\n",
       "      <td>-0.046863</td>\n",
       "      <td>0.161543</td>\n",
       "    </tr>\n",
       "    <tr>\n",
       "      <th>lotsizesquarefeet</th>\n",
       "      <td>0.014695</td>\n",
       "      <td>-0.140634</td>\n",
       "      <td>-0.063546</td>\n",
       "      <td>0.096326</td>\n",
       "      <td>-0.082455</td>\n",
       "      <td>1.000000</td>\n",
       "      <td>-0.103188</td>\n",
       "      <td>0.133087</td>\n",
       "      <td>-0.027381</td>\n",
       "      <td>0.153108</td>\n",
       "      <td>-0.026119</td>\n",
       "      <td>-0.065528</td>\n",
       "      <td>-0.000936</td>\n",
       "      <td>-0.131083</td>\n",
       "    </tr>\n",
       "    <tr>\n",
       "      <th>roomcnt</th>\n",
       "      <td>0.038073</td>\n",
       "      <td>0.173464</td>\n",
       "      <td>0.102631</td>\n",
       "      <td>-0.252341</td>\n",
       "      <td>-0.020602</td>\n",
       "      <td>-0.103188</td>\n",
       "      <td>1.000000</td>\n",
       "      <td>0.105721</td>\n",
       "      <td>0.006798</td>\n",
       "      <td>0.029707</td>\n",
       "      <td>0.346336</td>\n",
       "      <td>0.673146</td>\n",
       "      <td>0.043946</td>\n",
       "      <td>0.802935</td>\n",
       "    </tr>\n",
       "    <tr>\n",
       "      <th>yearbuilt</th>\n",
       "      <td>0.418284</td>\n",
       "      <td>0.134913</td>\n",
       "      <td>0.296264</td>\n",
       "      <td>0.068765</td>\n",
       "      <td>0.038446</td>\n",
       "      <td>0.133087</td>\n",
       "      <td>0.105721</td>\n",
       "      <td>1.000000</td>\n",
       "      <td>0.156554</td>\n",
       "      <td>0.126129</td>\n",
       "      <td>0.071270</td>\n",
       "      <td>0.127788</td>\n",
       "      <td>-0.008419</td>\n",
       "      <td>0.262081</td>\n",
       "    </tr>\n",
       "    <tr>\n",
       "      <th>taxvaluedollarcnt</th>\n",
       "      <td>0.492763</td>\n",
       "      <td>0.245550</td>\n",
       "      <td>0.596790</td>\n",
       "      <td>-0.152361</td>\n",
       "      <td>-0.013073</td>\n",
       "      <td>-0.027381</td>\n",
       "      <td>0.006798</td>\n",
       "      <td>0.156554</td>\n",
       "      <td>1.000000</td>\n",
       "      <td>0.180795</td>\n",
       "      <td>0.001088</td>\n",
       "      <td>0.026189</td>\n",
       "      <td>0.001035</td>\n",
       "      <td>0.082075</td>\n",
       "    </tr>\n",
       "    <tr>\n",
       "      <th>has_pool</th>\n",
       "      <td>0.230272</td>\n",
       "      <td>0.088600</td>\n",
       "      <td>0.241858</td>\n",
       "      <td>0.033456</td>\n",
       "      <td>-0.041279</td>\n",
       "      <td>0.153108</td>\n",
       "      <td>0.029707</td>\n",
       "      <td>0.126129</td>\n",
       "      <td>0.180795</td>\n",
       "      <td>1.000000</td>\n",
       "      <td>0.002415</td>\n",
       "      <td>0.033384</td>\n",
       "      <td>-0.003800</td>\n",
       "      <td>-0.005850</td>\n",
       "    </tr>\n",
       "    <tr>\n",
       "      <th>has_yardbuilding</th>\n",
       "      <td>0.022203</td>\n",
       "      <td>0.060922</td>\n",
       "      <td>0.042205</td>\n",
       "      <td>0.153194</td>\n",
       "      <td>-0.391298</td>\n",
       "      <td>-0.026119</td>\n",
       "      <td>0.346336</td>\n",
       "      <td>0.071270</td>\n",
       "      <td>0.001088</td>\n",
       "      <td>0.002415</td>\n",
       "      <td>1.000000</td>\n",
       "      <td>0.389019</td>\n",
       "      <td>0.029591</td>\n",
       "      <td>0.295497</td>\n",
       "    </tr>\n",
       "    <tr>\n",
       "      <th>has_fireplace</th>\n",
       "      <td>0.064520</td>\n",
       "      <td>0.122080</td>\n",
       "      <td>0.113957</td>\n",
       "      <td>-0.057308</td>\n",
       "      <td>-0.208180</td>\n",
       "      <td>-0.065528</td>\n",
       "      <td>0.673146</td>\n",
       "      <td>0.127788</td>\n",
       "      <td>0.026189</td>\n",
       "      <td>0.033384</td>\n",
       "      <td>0.389019</td>\n",
       "      <td>1.000000</td>\n",
       "      <td>0.043212</td>\n",
       "      <td>0.558879</td>\n",
       "    </tr>\n",
       "    <tr>\n",
       "      <th>has_basement</th>\n",
       "      <td>0.006979</td>\n",
       "      <td>0.002141</td>\n",
       "      <td>0.008966</td>\n",
       "      <td>0.022958</td>\n",
       "      <td>-0.046863</td>\n",
       "      <td>-0.000936</td>\n",
       "      <td>0.043946</td>\n",
       "      <td>-0.008419</td>\n",
       "      <td>0.001035</td>\n",
       "      <td>-0.003800</td>\n",
       "      <td>0.029591</td>\n",
       "      <td>0.043212</td>\n",
       "      <td>1.000000</td>\n",
       "      <td>0.034837</td>\n",
       "    </tr>\n",
       "    <tr>\n",
       "      <th>has_garage</th>\n",
       "      <td>0.113085</td>\n",
       "      <td>0.175280</td>\n",
       "      <td>0.172493</td>\n",
       "      <td>-0.429306</td>\n",
       "      <td>0.161543</td>\n",
       "      <td>-0.131083</td>\n",
       "      <td>0.802935</td>\n",
       "      <td>0.262081</td>\n",
       "      <td>0.082075</td>\n",
       "      <td>-0.005850</td>\n",
       "      <td>0.295497</td>\n",
       "      <td>0.558879</td>\n",
       "      <td>0.034837</td>\n",
       "      <td>1.000000</td>\n",
       "    </tr>\n",
       "  </tbody>\n",
       "</table>\n",
       "</div>"
      ],
      "text/plain": [
       "                              bathroomcnt  bedroomcnt  \\\n",
       "bathroomcnt                      1.000000    0.620682   \n",
       "bedroomcnt                       0.620682    1.000000   \n",
       "calculatedfinishedsquarefeet     0.786310    0.623952   \n",
       "latitude                        -0.003366    0.004991   \n",
       "longitude                       -0.002239    0.049270   \n",
       "lotsizesquarefeet                0.014695   -0.140634   \n",
       "roomcnt                          0.038073    0.173464   \n",
       "yearbuilt                        0.418284    0.134913   \n",
       "taxvaluedollarcnt                0.492763    0.245550   \n",
       "has_pool                         0.230272    0.088600   \n",
       "has_yardbuilding                 0.022203    0.060922   \n",
       "has_fireplace                    0.064520    0.122080   \n",
       "has_basement                     0.006979    0.002141   \n",
       "has_garage                       0.113085    0.175280   \n",
       "\n",
       "                              calculatedfinishedsquarefeet  latitude  \\\n",
       "bathroomcnt                                       0.786310 -0.003366   \n",
       "bedroomcnt                                        0.623952  0.004991   \n",
       "calculatedfinishedsquarefeet                      1.000000 -0.059555   \n",
       "latitude                                         -0.059555  1.000000   \n",
       "longitude                                         0.034203 -0.542187   \n",
       "lotsizesquarefeet                                -0.063546  0.096326   \n",
       "roomcnt                                           0.102631 -0.252341   \n",
       "yearbuilt                                         0.296264  0.068765   \n",
       "taxvaluedollarcnt                                 0.596790 -0.152361   \n",
       "has_pool                                          0.241858  0.033456   \n",
       "has_yardbuilding                                  0.042205  0.153194   \n",
       "has_fireplace                                     0.113957 -0.057308   \n",
       "has_basement                                      0.008966  0.022958   \n",
       "has_garage                                        0.172493 -0.429306   \n",
       "\n",
       "                              longitude  lotsizesquarefeet   roomcnt  \\\n",
       "bathroomcnt                   -0.002239           0.014695  0.038073   \n",
       "bedroomcnt                     0.049270          -0.140634  0.173464   \n",
       "calculatedfinishedsquarefeet   0.034203          -0.063546  0.102631   \n",
       "latitude                      -0.542187           0.096326 -0.252341   \n",
       "longitude                      1.000000          -0.082455 -0.020602   \n",
       "lotsizesquarefeet             -0.082455           1.000000 -0.103188   \n",
       "roomcnt                       -0.020602          -0.103188  1.000000   \n",
       "yearbuilt                      0.038446           0.133087  0.105721   \n",
       "taxvaluedollarcnt             -0.013073          -0.027381  0.006798   \n",
       "has_pool                      -0.041279           0.153108  0.029707   \n",
       "has_yardbuilding              -0.391298          -0.026119  0.346336   \n",
       "has_fireplace                 -0.208180          -0.065528  0.673146   \n",
       "has_basement                  -0.046863          -0.000936  0.043946   \n",
       "has_garage                     0.161543          -0.131083  0.802935   \n",
       "\n",
       "                              yearbuilt  taxvaluedollarcnt  has_pool  \\\n",
       "bathroomcnt                    0.418284           0.492763  0.230272   \n",
       "bedroomcnt                     0.134913           0.245550  0.088600   \n",
       "calculatedfinishedsquarefeet   0.296264           0.596790  0.241858   \n",
       "latitude                       0.068765          -0.152361  0.033456   \n",
       "longitude                      0.038446          -0.013073 -0.041279   \n",
       "lotsizesquarefeet              0.133087          -0.027381  0.153108   \n",
       "roomcnt                        0.105721           0.006798  0.029707   \n",
       "yearbuilt                      1.000000           0.156554  0.126129   \n",
       "taxvaluedollarcnt              0.156554           1.000000  0.180795   \n",
       "has_pool                       0.126129           0.180795  1.000000   \n",
       "has_yardbuilding               0.071270           0.001088  0.002415   \n",
       "has_fireplace                  0.127788           0.026189  0.033384   \n",
       "has_basement                  -0.008419           0.001035 -0.003800   \n",
       "has_garage                     0.262081           0.082075 -0.005850   \n",
       "\n",
       "                              has_yardbuilding  has_fireplace  has_basement  \\\n",
       "bathroomcnt                           0.022203       0.064520      0.006979   \n",
       "bedroomcnt                            0.060922       0.122080      0.002141   \n",
       "calculatedfinishedsquarefeet          0.042205       0.113957      0.008966   \n",
       "latitude                              0.153194      -0.057308      0.022958   \n",
       "longitude                            -0.391298      -0.208180     -0.046863   \n",
       "lotsizesquarefeet                    -0.026119      -0.065528     -0.000936   \n",
       "roomcnt                               0.346336       0.673146      0.043946   \n",
       "yearbuilt                             0.071270       0.127788     -0.008419   \n",
       "taxvaluedollarcnt                     0.001088       0.026189      0.001035   \n",
       "has_pool                              0.002415       0.033384     -0.003800   \n",
       "has_yardbuilding                      1.000000       0.389019      0.029591   \n",
       "has_fireplace                         0.389019       1.000000      0.043212   \n",
       "has_basement                          0.029591       0.043212      1.000000   \n",
       "has_garage                            0.295497       0.558879      0.034837   \n",
       "\n",
       "                              has_garage  \n",
       "bathroomcnt                     0.113085  \n",
       "bedroomcnt                      0.175280  \n",
       "calculatedfinishedsquarefeet    0.172493  \n",
       "latitude                       -0.429306  \n",
       "longitude                       0.161543  \n",
       "lotsizesquarefeet              -0.131083  \n",
       "roomcnt                         0.802935  \n",
       "yearbuilt                       0.262081  \n",
       "taxvaluedollarcnt               0.082075  \n",
       "has_pool                       -0.005850  \n",
       "has_yardbuilding                0.295497  \n",
       "has_fireplace                   0.558879  \n",
       "has_basement                    0.034837  \n",
       "has_garage                      1.000000  "
      ]
     },
     "execution_count": 18,
     "metadata": {},
     "output_type": "execute_result"
    }
   ],
   "source": [
    "df.corr()"
   ]
  },
  {
   "cell_type": "code",
   "execution_count": 19,
   "metadata": {},
   "outputs": [
    {
     "data": {
      "text/plain": [
       "<matplotlib.axes._subplots.AxesSubplot at 0x1c23d18978>"
      ]
     },
     "execution_count": 19,
     "metadata": {},
     "output_type": "execute_result"
    },
    {
     "data": {
      "image/png": "[encoded data removed]",
      "text/plain": [
       "<Figure size 432x288 with 2 Axes>"
      ]
     },
     "metadata": {
      "needs_background": "light"
     },
     "output_type": "display_data"
    }
   ],
   "source": [
    "sns.heatmap(df.corr())"
   ]
  },
  {
   "cell_type": "markdown",
   "metadata": {},
   "source": [
    "- average price by year built"
   ]
  },
  {
   "cell_type": "code",
   "execution_count": 20,
   "metadata": {},
   "outputs": [
    {
     "data": {
      "text/plain": [
       "<matplotlib.axes._subplots.AxesSubplot at 0x1c23f84588>"
      ]
     },
     "execution_count": 20,
     "metadata": {},
     "output_type": "execute_result"
    },
    {
     "data": {
      "image/png": "[encoded data removed]",
      "text/plain": [
       "<Figure size 432x288 with 1 Axes>"
      ]
     },
     "metadata": {
      "needs_background": "light"
     },
     "output_type": "display_data"
    }
   ],
   "source": [
    "sns.scatterplot(data = df.groupby('yearbuilt').mean().taxvaluedollarcnt)"
   ]
  },
  {
   "cell_type": "markdown",
   "metadata": {},
   "source": [
    "- average price by house size"
   ]
  },
  {
   "cell_type": "code",
   "execution_count": 21,
   "metadata": {},
   "outputs": [
    {
     "data": {
      "text/plain": [
       "<matplotlib.axes._subplots.AxesSubplot at 0x1c23e9b0b8>"
      ]
     },
     "execution_count": 21,
     "metadata": {},
     "output_type": "execute_result"
    },
    {
     "data": {
      "image/png": "[encoded data removed]",
      "text/plain": [
       "<Figure size 432x288 with 1 Axes>"
      ]
     },
     "metadata": {
      "needs_background": "light"
     },
     "output_type": "display_data"
    }
   ],
   "source": [
    "sns.scatterplot(data = df.groupby('calculatedfinishedsquarefeet').mean().taxvaluedollarcnt)"
   ]
  },
  {
   "cell_type": "markdown",
   "metadata": {},
   "source": [
    "- average price by bedroom count"
   ]
  },
  {
   "cell_type": "code",
   "execution_count": 22,
   "metadata": {},
   "outputs": [
    {
     "data": {
      "text/plain": [
       "<matplotlib.axes._subplots.AxesSubplot at 0x1c24068160>"
      ]
     },
     "execution_count": 22,
     "metadata": {},
     "output_type": "execute_result"
    },
    {
     "data": {
      "image/png": "[encoded data removed]",
      "text/plain": [
       "<Figure size 432x288 with 1 Axes>"
      ]
     },
     "metadata": {
      "needs_background": "light"
     },
     "output_type": "display_data"
    }
   ],
   "source": [
    "sns.scatterplot(data = df.groupby('bedroomcnt').mean().taxvaluedollarcnt)"
   ]
  },
  {
   "cell_type": "markdown",
   "metadata": {},
   "source": [
    "- average price by bathroom count"
   ]
  },
  {
   "cell_type": "code",
   "execution_count": 23,
   "metadata": {},
   "outputs": [
    {
     "data": {
      "text/plain": [
       "<matplotlib.axes._subplots.AxesSubplot at 0x1c24155b70>"
      ]
     },
     "execution_count": 23,
     "metadata": {},
     "output_type": "execute_result"
    },
    {
     "data": {
      "image/png": "[encoded data removed]",
      "text/plain": [
       "<Figure size 432x288 with 1 Axes>"
      ]
     },
     "metadata": {
      "needs_background": "light"
     },
     "output_type": "display_data"
    }
   ],
   "source": [
    "sns.scatterplot(data = df.groupby('bathroomcnt').mean().taxvaluedollarcnt)"
   ]
  },
  {
   "cell_type": "markdown",
   "metadata": {},
   "source": [
    "- averge price by room count"
   ]
  },
  {
   "cell_type": "code",
   "execution_count": 24,
   "metadata": {},
   "outputs": [
    {
     "data": {
      "text/plain": [
       "<matplotlib.axes._subplots.AxesSubplot at 0x1c2423fdd8>"
      ]
     },
     "execution_count": 24,
     "metadata": {},
     "output_type": "execute_result"
    },
    {
     "data": {
      "image/png": "[encoded data removed]",
      "text/plain": [
       "<Figure size 432x288 with 1 Axes>"
      ]
     },
     "metadata": {
      "needs_background": "light"
     },
     "output_type": "display_data"
    }
   ],
   "source": [
    "sns.scatterplot(data = df.groupby('roomcnt').mean().taxvaluedollarcnt)"
   ]
  },
  {
   "cell_type": "markdown",
   "metadata": {},
   "source": [
    "- average price by lot size\n",
    "- does not appeat to have a strong linear coorelation"
   ]
  },
  {
   "cell_type": "code",
   "execution_count": 25,
   "metadata": {},
   "outputs": [
    {
     "data": {
      "text/plain": [
       "<matplotlib.axes._subplots.AxesSubplot at 0x1c242e4be0>"
      ]
     },
     "execution_count": 25,
     "metadata": {},
     "output_type": "execute_result"
    },
    {
     "data": {
      "image/png": "[encoded data removed]",
      "text/plain": [
       "<Figure size 432x288 with 1 Axes>"
      ]
     },
     "metadata": {
      "needs_background": "light"
     },
     "output_type": "display_data"
    }
   ],
   "source": [
    "sns.scatterplot(data = df.groupby('lotsizesquarefeet').mean().taxvaluedollarcnt)"
   ]
  },
  {
   "cell_type": "code",
   "execution_count": null,
   "metadata": {},
   "outputs": [],
   "source": []
  },
  {
   "cell_type": "markdown",
   "metadata": {},
   "source": [
    "## Feature Engineering"
   ]
  },
  {
   "cell_type": "code",
   "execution_count": 26,
   "metadata": {},
   "outputs": [],
   "source": [
    "train, test = ss.split_my_data(df)"
   ]
  },
  {
   "cell_type": "code",
   "execution_count": 27,
   "metadata": {},
   "outputs": [
    {
     "data": {
      "text/html": [
       "<div>\n",
       "<style scoped>\n",
       "    .dataframe tbody tr th:only-of-type {\n",
       "        vertical-align: middle;\n",
       "    }\n",
       "\n",
       "    .dataframe tbody tr th {\n",
       "        vertical-align: top;\n",
       "    }\n",
       "\n",
       "    .dataframe thead th {\n",
       "        text-align: right;\n",
       "    }\n",
       "</style>\n",
       "<table border=\"1\" class=\"dataframe\">\n",
       "  <thead>\n",
       "    <tr style=\"text-align: right;\">\n",
       "      <th></th>\n",
       "      <th>bathroomcnt</th>\n",
       "      <th>bedroomcnt</th>\n",
       "      <th>calculatedfinishedsquarefeet</th>\n",
       "      <th>latitude</th>\n",
       "      <th>longitude</th>\n",
       "      <th>lotsizesquarefeet</th>\n",
       "      <th>roomcnt</th>\n",
       "      <th>yearbuilt</th>\n",
       "      <th>taxvaluedollarcnt</th>\n",
       "      <th>has_pool</th>\n",
       "      <th>has_yardbuilding</th>\n",
       "      <th>has_fireplace</th>\n",
       "      <th>has_basement</th>\n",
       "      <th>has_garage</th>\n",
       "    </tr>\n",
       "  </thead>\n",
       "  <tbody>\n",
       "    <tr>\n",
       "      <th>19166</th>\n",
       "      <td>2.0</td>\n",
       "      <td>1.0</td>\n",
       "      <td>1067.0</td>\n",
       "      <td>34112500.0</td>\n",
       "      <td>-118286000.0</td>\n",
       "      <td>93226.0</td>\n",
       "      <td>0.0</td>\n",
       "      <td>1966.0</td>\n",
       "      <td>346320.0</td>\n",
       "      <td>0</td>\n",
       "      <td>0</td>\n",
       "      <td>0</td>\n",
       "      <td>0</td>\n",
       "      <td>0</td>\n",
       "    </tr>\n",
       "    <tr>\n",
       "      <th>9166</th>\n",
       "      <td>2.0</td>\n",
       "      <td>2.0</td>\n",
       "      <td>1057.0</td>\n",
       "      <td>34157200.0</td>\n",
       "      <td>-118123000.0</td>\n",
       "      <td>59194.0</td>\n",
       "      <td>0.0</td>\n",
       "      <td>1982.0</td>\n",
       "      <td>230436.0</td>\n",
       "      <td>0</td>\n",
       "      <td>0</td>\n",
       "      <td>0</td>\n",
       "      <td>0</td>\n",
       "      <td>0</td>\n",
       "    </tr>\n",
       "    <tr>\n",
       "      <th>16165</th>\n",
       "      <td>2.0</td>\n",
       "      <td>3.0</td>\n",
       "      <td>1835.0</td>\n",
       "      <td>34278590.0</td>\n",
       "      <td>-118362548.0</td>\n",
       "      <td>11658.0</td>\n",
       "      <td>0.0</td>\n",
       "      <td>1964.0</td>\n",
       "      <td>219324.0</td>\n",
       "      <td>0</td>\n",
       "      <td>0</td>\n",
       "      <td>0</td>\n",
       "      <td>0</td>\n",
       "      <td>0</td>\n",
       "    </tr>\n",
       "    <tr>\n",
       "      <th>14106</th>\n",
       "      <td>3.0</td>\n",
       "      <td>2.0</td>\n",
       "      <td>824.0</td>\n",
       "      <td>33953332.0</td>\n",
       "      <td>-118360541.0</td>\n",
       "      <td>24977.0</td>\n",
       "      <td>0.0</td>\n",
       "      <td>1986.0</td>\n",
       "      <td>214353.0</td>\n",
       "      <td>0</td>\n",
       "      <td>0</td>\n",
       "      <td>0</td>\n",
       "      <td>0</td>\n",
       "      <td>0</td>\n",
       "    </tr>\n",
       "    <tr>\n",
       "      <th>10544</th>\n",
       "      <td>2.0</td>\n",
       "      <td>3.0</td>\n",
       "      <td>1157.0</td>\n",
       "      <td>34124129.0</td>\n",
       "      <td>-117829297.0</td>\n",
       "      <td>6114.0</td>\n",
       "      <td>0.0</td>\n",
       "      <td>1962.0</td>\n",
       "      <td>449000.0</td>\n",
       "      <td>0</td>\n",
       "      <td>0</td>\n",
       "      <td>0</td>\n",
       "      <td>0</td>\n",
       "      <td>0</td>\n",
       "    </tr>\n",
       "  </tbody>\n",
       "</table>\n",
       "</div>"
      ],
      "text/plain": [
       "       bathroomcnt  bedroomcnt  calculatedfinishedsquarefeet    latitude  \\\n",
       "19166          2.0         1.0                        1067.0  34112500.0   \n",
       "9166           2.0         2.0                        1057.0  34157200.0   \n",
       "16165          2.0         3.0                        1835.0  34278590.0   \n",
       "14106          3.0         2.0                         824.0  33953332.0   \n",
       "10544          2.0         3.0                        1157.0  34124129.0   \n",
       "\n",
       "         longitude  lotsizesquarefeet  roomcnt  yearbuilt  taxvaluedollarcnt  \\\n",
       "19166 -118286000.0            93226.0      0.0     1966.0           346320.0   \n",
       "9166  -118123000.0            59194.0      0.0     1982.0           230436.0   \n",
       "16165 -118362548.0            11658.0      0.0     1964.0           219324.0   \n",
       "14106 -118360541.0            24977.0      0.0     1986.0           214353.0   \n",
       "10544 -117829297.0             6114.0      0.0     1962.0           449000.0   \n",
       "\n",
       "       has_pool  has_yardbuilding  has_fireplace  has_basement  has_garage  \n",
       "19166         0                 0              0             0           0  \n",
       "9166          0                 0              0             0           0  \n",
       "16165         0                 0              0             0           0  \n",
       "14106         0                 0              0             0           0  \n",
       "10544         0                 0              0             0           0  "
      ]
     },
     "execution_count": 27,
     "metadata": {},
     "output_type": "execute_result"
    }
   ],
   "source": [
    "train.head()"
   ]
  },
  {
   "cell_type": "code",
   "execution_count": 28,
   "metadata": {},
   "outputs": [],
   "source": [
    "scaler,trainx_scaled, testx_scaled = ss.standard_scaler(train[feature], test[feature])"
   ]
  },
  {
   "cell_type": "code",
   "execution_count": 29,
   "metadata": {},
   "outputs": [
    {
     "data": {
      "image/png": "[encoded data removed]",
      "text/plain": [
       "<Figure size 432x288 with 1 Axes>"
      ]
     },
     "metadata": {
      "needs_background": "light"
     },
     "output_type": "display_data"
    }
   ],
   "source": [
    "mod.plot_residuals(trainx_scaled.calculatedfinishedsquarefeet, train.taxvaluedollarcnt)"
   ]
  },
  {
   "cell_type": "code",
   "execution_count": 30,
   "metadata": {},
   "outputs": [
    {
     "data": {
      "text/plain": [
       "bathroomcnt                       0.000000\n",
       "bedroomcnt                       -0.000000\n",
       "calculatedfinishedsquarefeet    328.083368\n",
       "latitude                         -0.427718\n",
       "longitude                        -0.214326\n",
       "lotsizesquarefeet                 0.105530\n",
       "roomcnt                          -0.000000\n",
       "yearbuilt                         0.000000\n",
       "has_pool                          0.000000\n",
       "has_yardbuilding                 -0.000000\n",
       "has_fireplace                    -0.000000\n",
       "has_basement                     -0.000000\n",
       "has_garage                       -0.000000\n",
       "dtype: float64"
      ]
     },
     "execution_count": 30,
     "metadata": {},
     "output_type": "execute_result"
    }
   ],
   "source": [
    "feat.lasso_cv_coef(train[feature], train[target])"
   ]
  },
  {
   "cell_type": "code",
   "execution_count": 31,
   "metadata": {},
   "outputs": [
    {
     "data": {
      "text/plain": [
       "['bathroomcnt',\n",
       " 'bedroomcnt',\n",
       " 'calculatedfinishedsquarefeet',\n",
       " 'latitude',\n",
       " 'longitude',\n",
       " 'lotsizesquarefeet',\n",
       " 'roomcnt',\n",
       " 'yearbuilt',\n",
       " 'has_pool']"
      ]
     },
     "execution_count": 31,
     "metadata": {},
     "output_type": "execute_result"
    }
   ],
   "source": [
    "feat.ols_backward_elimination(train[feature], train[target])"
   ]
  },
  {
   "cell_type": "code",
   "execution_count": 32,
   "metadata": {},
   "outputs": [
    {
     "data": {
      "text/plain": [
       "Index(['bathroomcnt', 'bedroomcnt', 'calculatedfinishedsquarefeet', 'latitude',\n",
       "       'longitude', 'lotsizesquarefeet', 'roomcnt', 'yearbuilt', 'has_pool',\n",
       "       'has_yardbuilding', 'has_fireplace', 'has_basement', 'has_garage'],\n",
       "      dtype='object')"
      ]
     },
     "execution_count": 32,
     "metadata": {},
     "output_type": "execute_result"
    }
   ],
   "source": [
    "_,_, features = feat.recursive_feature_elimination(feature, target, df)\n",
    "features"
   ]
  },
  {
   "cell_type": "markdown",
   "metadata": {},
   "source": [
    "- same tests but this time: scaled data"
   ]
  },
  {
   "cell_type": "code",
   "execution_count": 33,
   "metadata": {},
   "outputs": [],
   "source": [
    "scaler ,trainx_scaled, testx_scaled = ss.standard_scaler(train[features], test[features])"
   ]
  },
  {
   "cell_type": "code",
   "execution_count": 34,
   "metadata": {},
   "outputs": [
    {
     "data": {
      "text/plain": [
       "bathroomcnt                      82843.304680\n",
       "bedroomcnt                     -119986.492492\n",
       "calculatedfinishedsquarefeet    348324.038913\n",
       "latitude                       -114671.971388\n",
       "longitude                       -78356.837251\n",
       "lotsizesquarefeet               -10404.142252\n",
       "roomcnt                         -34381.085396\n",
       "yearbuilt                       -17259.860026\n",
       "has_pool                         16693.490196\n",
       "has_yardbuilding                 -4187.727459\n",
       "has_fireplace                   -13488.664655\n",
       "has_basement                     -2414.281934\n",
       "has_garage                        1813.189955\n",
       "dtype: float64"
      ]
     },
     "execution_count": 34,
     "metadata": {},
     "output_type": "execute_result"
    }
   ],
   "source": [
    "feat.lasso_cv_coef(trainx_scaled, train[target])"
   ]
  },
  {
   "cell_type": "code",
   "execution_count": 35,
   "metadata": {},
   "outputs": [
    {
     "data": {
      "text/plain": [
       "['bathroomcnt',\n",
       " 'bedroomcnt',\n",
       " 'calculatedfinishedsquarefeet',\n",
       " 'latitude',\n",
       " 'longitude',\n",
       " 'roomcnt',\n",
       " 'yearbuilt',\n",
       " 'has_pool']"
      ]
     },
     "execution_count": 35,
     "metadata": {},
     "output_type": "execute_result"
    }
   ],
   "source": [
    "feature = feat.ols_backward_elimination(trainx_scaled, train[target])\n",
    "feature"
   ]
  },
  {
   "cell_type": "markdown",
   "metadata": {},
   "source": [
    "## Model"
   ]
  },
  {
   "cell_type": "markdown",
   "metadata": {},
   "source": [
    "- get yhat for regression model"
   ]
  },
  {
   "cell_type": "code",
   "execution_count": 36,
   "metadata": {},
   "outputs": [
    {
     "data": {
      "text/html": [
       "<div>\n",
       "<style scoped>\n",
       "    .dataframe tbody tr th:only-of-type {\n",
       "        vertical-align: middle;\n",
       "    }\n",
       "\n",
       "    .dataframe tbody tr th {\n",
       "        vertical-align: top;\n",
       "    }\n",
       "\n",
       "    .dataframe thead th {\n",
       "        text-align: right;\n",
       "    }\n",
       "</style>\n",
       "<table border=\"1\" class=\"dataframe\">\n",
       "  <thead>\n",
       "    <tr style=\"text-align: right;\">\n",
       "      <th></th>\n",
       "      <th>bathroomcnt</th>\n",
       "      <th>bedroomcnt</th>\n",
       "      <th>calculatedfinishedsquarefeet</th>\n",
       "      <th>latitude</th>\n",
       "      <th>longitude</th>\n",
       "      <th>lotsizesquarefeet</th>\n",
       "      <th>roomcnt</th>\n",
       "      <th>yearbuilt</th>\n",
       "      <th>has_pool</th>\n",
       "      <th>has_yardbuilding</th>\n",
       "      <th>has_fireplace</th>\n",
       "      <th>has_basement</th>\n",
       "      <th>has_garage</th>\n",
       "      <th>taxvaluedollarcnt</th>\n",
       "      <th>predicted</th>\n",
       "    </tr>\n",
       "  </thead>\n",
       "  <tbody>\n",
       "    <tr>\n",
       "      <th>163</th>\n",
       "      <td>-0.340444</td>\n",
       "      <td>-0.136495</td>\n",
       "      <td>-0.155692</td>\n",
       "      <td>0.972784</td>\n",
       "      <td>-0.747301</td>\n",
       "      <td>-0.115057</td>\n",
       "      <td>-0.522229</td>\n",
       "      <td>-0.146635</td>\n",
       "      <td>1.824076</td>\n",
       "      <td>-0.187917</td>\n",
       "      <td>-0.357025</td>\n",
       "      <td>-0.023983</td>\n",
       "      <td>-0.629869</td>\n",
       "      <td>302612.0</td>\n",
       "      <td>440311.435493</td>\n",
       "    </tr>\n",
       "    <tr>\n",
       "      <th>13484</th>\n",
       "      <td>-0.340444</td>\n",
       "      <td>-0.136495</td>\n",
       "      <td>-0.190602</td>\n",
       "      <td>-0.004654</td>\n",
       "      <td>0.219272</td>\n",
       "      <td>-0.240774</td>\n",
       "      <td>-0.522229</td>\n",
       "      <td>-0.783518</td>\n",
       "      <td>-0.548223</td>\n",
       "      <td>-0.187917</td>\n",
       "      <td>-0.357025</td>\n",
       "      <td>-0.023983</td>\n",
       "      <td>-0.629869</td>\n",
       "      <td>94907.0</td>\n",
       "      <td>435962.189319</td>\n",
       "    </tr>\n",
       "    <tr>\n",
       "      <th>10206</th>\n",
       "      <td>0.652661</td>\n",
       "      <td>-1.043139</td>\n",
       "      <td>-0.329183</td>\n",
       "      <td>0.143894</td>\n",
       "      <td>-0.648840</td>\n",
       "      <td>-0.129940</td>\n",
       "      <td>-0.522229</td>\n",
       "      <td>1.084674</td>\n",
       "      <td>-0.548223</td>\n",
       "      <td>-0.187917</td>\n",
       "      <td>-0.357025</td>\n",
       "      <td>-0.023983</td>\n",
       "      <td>-0.629869</td>\n",
       "      <td>439335.0</td>\n",
       "      <td>597203.263578</td>\n",
       "    </tr>\n",
       "    <tr>\n",
       "      <th>12811</th>\n",
       "      <td>-0.340444</td>\n",
       "      <td>-0.136495</td>\n",
       "      <td>0.386994</td>\n",
       "      <td>0.342529</td>\n",
       "      <td>-0.270412</td>\n",
       "      <td>-0.247337</td>\n",
       "      <td>-0.522229</td>\n",
       "      <td>-0.741059</td>\n",
       "      <td>-0.548223</td>\n",
       "      <td>-0.187917</td>\n",
       "      <td>-0.357025</td>\n",
       "      <td>-0.023983</td>\n",
       "      <td>-0.629869</td>\n",
       "      <td>539526.0</td>\n",
       "      <td>635716.451067</td>\n",
       "    </tr>\n",
       "    <tr>\n",
       "      <th>5419</th>\n",
       "      <td>-1.333549</td>\n",
       "      <td>-1.043139</td>\n",
       "      <td>-1.271744</td>\n",
       "      <td>0.248488</td>\n",
       "      <td>0.791600</td>\n",
       "      <td>-0.193130</td>\n",
       "      <td>-0.522229</td>\n",
       "      <td>-0.656141</td>\n",
       "      <td>-0.548223</td>\n",
       "      <td>-0.187917</td>\n",
       "      <td>-0.357025</td>\n",
       "      <td>-0.023983</td>\n",
       "      <td>-0.629869</td>\n",
       "      <td>19616.0</td>\n",
       "      <td>8215.545260</td>\n",
       "    </tr>\n",
       "  </tbody>\n",
       "</table>\n",
       "</div>"
      ],
      "text/plain": [
       "       bathroomcnt  bedroomcnt  calculatedfinishedsquarefeet  latitude  \\\n",
       "163      -0.340444   -0.136495                     -0.155692  0.972784   \n",
       "13484    -0.340444   -0.136495                     -0.190602 -0.004654   \n",
       "10206     0.652661   -1.043139                     -0.329183  0.143894   \n",
       "12811    -0.340444   -0.136495                      0.386994  0.342529   \n",
       "5419     -1.333549   -1.043139                     -1.271744  0.248488   \n",
       "\n",
       "       longitude  lotsizesquarefeet   roomcnt  yearbuilt  has_pool  \\\n",
       "163    -0.747301          -0.115057 -0.522229  -0.146635  1.824076   \n",
       "13484   0.219272          -0.240774 -0.522229  -0.783518 -0.548223   \n",
       "10206  -0.648840          -0.129940 -0.522229   1.084674 -0.548223   \n",
       "12811  -0.270412          -0.247337 -0.522229  -0.741059 -0.548223   \n",
       "5419    0.791600          -0.193130 -0.522229  -0.656141 -0.548223   \n",
       "\n",
       "       has_yardbuilding  has_fireplace  has_basement  has_garage  \\\n",
       "163           -0.187917      -0.357025     -0.023983   -0.629869   \n",
       "13484         -0.187917      -0.357025     -0.023983   -0.629869   \n",
       "10206         -0.187917      -0.357025     -0.023983   -0.629869   \n",
       "12811         -0.187917      -0.357025     -0.023983   -0.629869   \n",
       "5419          -0.187917      -0.357025     -0.023983   -0.629869   \n",
       "\n",
       "       taxvaluedollarcnt      predicted  \n",
       "163             302612.0  440311.435493  \n",
       "13484            94907.0  435962.189319  \n",
       "10206           439335.0  597203.263578  \n",
       "12811           539526.0  635716.451067  \n",
       "5419             19616.0    8215.545260  "
      ]
     },
     "execution_count": 36,
     "metadata": {},
     "output_type": "execute_result"
    }
   ],
   "source": [
    "results, _ = mod.model_predictions(trainx_scaled, train[target], testx_scaled, test[target])\n",
    "results.head()"
   ]
  },
  {
   "cell_type": "markdown",
   "metadata": {},
   "source": [
    "- check if better than baseline"
   ]
  },
  {
   "cell_type": "code",
   "execution_count": null,
   "metadata": {},
   "outputs": [],
   "source": []
  },
  {
   "cell_type": "code",
   "execution_count": null,
   "metadata": {},
   "outputs": [],
   "source": []
  },
  {
   "cell_type": "code",
   "execution_count": 37,
   "metadata": {},
   "outputs": [
    {
     "name": "stdout",
     "output_type": "stream",
     "text": [
      "The r2 is: 0.43119793679968443\n"
     ]
    }
   ],
   "source": [
    "reg_r2 = explained_variance_score(results.taxvaluedollarcnt, results.predicted)\n",
    "print(f'The r2 is: {reg_r2}')"
   ]
  },
  {
   "cell_type": "code",
   "execution_count": 38,
   "metadata": {},
   "outputs": [
    {
     "data": {
      "text/html": [
       "<div>\n",
       "<style scoped>\n",
       "    .dataframe tbody tr th:only-of-type {\n",
       "        vertical-align: middle;\n",
       "    }\n",
       "\n",
       "    .dataframe tbody tr th {\n",
       "        vertical-align: top;\n",
       "    }\n",
       "\n",
       "    .dataframe thead th {\n",
       "        text-align: right;\n",
       "    }\n",
       "</style>\n",
       "<table border=\"1\" class=\"dataframe\">\n",
       "  <thead>\n",
       "    <tr style=\"text-align: right;\">\n",
       "      <th></th>\n",
       "      <th>bathroomcnt</th>\n",
       "      <th>bedroomcnt</th>\n",
       "      <th>calculatedfinishedsquarefeet</th>\n",
       "      <th>latitude</th>\n",
       "      <th>longitude</th>\n",
       "      <th>lotsizesquarefeet</th>\n",
       "      <th>roomcnt</th>\n",
       "      <th>yearbuilt</th>\n",
       "      <th>has_pool</th>\n",
       "      <th>has_yardbuilding</th>\n",
       "      <th>has_fireplace</th>\n",
       "      <th>has_basement</th>\n",
       "      <th>has_garage</th>\n",
       "      <th>taxvaluedollarcnt</th>\n",
       "      <th>predicted</th>\n",
       "    </tr>\n",
       "  </thead>\n",
       "  <tbody>\n",
       "    <tr>\n",
       "      <th>163</th>\n",
       "      <td>-0.340444</td>\n",
       "      <td>-0.136495</td>\n",
       "      <td>-0.155692</td>\n",
       "      <td>0.972784</td>\n",
       "      <td>-0.747301</td>\n",
       "      <td>-0.115057</td>\n",
       "      <td>-0.522229</td>\n",
       "      <td>-0.146635</td>\n",
       "      <td>1.824076</td>\n",
       "      <td>-0.187917</td>\n",
       "      <td>-0.357025</td>\n",
       "      <td>-0.023983</td>\n",
       "      <td>-0.629869</td>\n",
       "      <td>302612.0</td>\n",
       "      <td>439300.756969</td>\n",
       "    </tr>\n",
       "    <tr>\n",
       "      <th>13484</th>\n",
       "      <td>-0.340444</td>\n",
       "      <td>-0.136495</td>\n",
       "      <td>-0.190602</td>\n",
       "      <td>-0.004654</td>\n",
       "      <td>0.219272</td>\n",
       "      <td>-0.240774</td>\n",
       "      <td>-0.522229</td>\n",
       "      <td>-0.783518</td>\n",
       "      <td>-0.548223</td>\n",
       "      <td>-0.187917</td>\n",
       "      <td>-0.357025</td>\n",
       "      <td>-0.023983</td>\n",
       "      <td>-0.629869</td>\n",
       "      <td>94907.0</td>\n",
       "      <td>436186.464678</td>\n",
       "    </tr>\n",
       "    <tr>\n",
       "      <th>10206</th>\n",
       "      <td>0.652661</td>\n",
       "      <td>-1.043139</td>\n",
       "      <td>-0.329183</td>\n",
       "      <td>0.143894</td>\n",
       "      <td>-0.648840</td>\n",
       "      <td>-0.129940</td>\n",
       "      <td>-0.522229</td>\n",
       "      <td>1.084674</td>\n",
       "      <td>-0.548223</td>\n",
       "      <td>-0.187917</td>\n",
       "      <td>-0.357025</td>\n",
       "      <td>-0.023983</td>\n",
       "      <td>-0.629869</td>\n",
       "      <td>439335.0</td>\n",
       "      <td>596562.923119</td>\n",
       "    </tr>\n",
       "    <tr>\n",
       "      <th>12811</th>\n",
       "      <td>-0.340444</td>\n",
       "      <td>-0.136495</td>\n",
       "      <td>0.386994</td>\n",
       "      <td>0.342529</td>\n",
       "      <td>-0.270412</td>\n",
       "      <td>-0.247337</td>\n",
       "      <td>-0.522229</td>\n",
       "      <td>-0.741059</td>\n",
       "      <td>-0.548223</td>\n",
       "      <td>-0.187917</td>\n",
       "      <td>-0.357025</td>\n",
       "      <td>-0.023983</td>\n",
       "      <td>-0.629869</td>\n",
       "      <td>539526.0</td>\n",
       "      <td>635270.653357</td>\n",
       "    </tr>\n",
       "    <tr>\n",
       "      <th>5419</th>\n",
       "      <td>-1.333549</td>\n",
       "      <td>-1.043139</td>\n",
       "      <td>-1.271744</td>\n",
       "      <td>0.248488</td>\n",
       "      <td>0.791600</td>\n",
       "      <td>-0.193130</td>\n",
       "      <td>-0.522229</td>\n",
       "      <td>-0.656141</td>\n",
       "      <td>-0.548223</td>\n",
       "      <td>-0.187917</td>\n",
       "      <td>-0.357025</td>\n",
       "      <td>-0.023983</td>\n",
       "      <td>-0.629869</td>\n",
       "      <td>19616.0</td>\n",
       "      <td>9543.380244</td>\n",
       "    </tr>\n",
       "  </tbody>\n",
       "</table>\n",
       "</div>"
      ],
      "text/plain": [
       "       bathroomcnt  bedroomcnt  calculatedfinishedsquarefeet  latitude  \\\n",
       "163      -0.340444   -0.136495                     -0.155692  0.972784   \n",
       "13484    -0.340444   -0.136495                     -0.190602 -0.004654   \n",
       "10206     0.652661   -1.043139                     -0.329183  0.143894   \n",
       "12811    -0.340444   -0.136495                      0.386994  0.342529   \n",
       "5419     -1.333549   -1.043139                     -1.271744  0.248488   \n",
       "\n",
       "       longitude  lotsizesquarefeet   roomcnt  yearbuilt  has_pool  \\\n",
       "163    -0.747301          -0.115057 -0.522229  -0.146635  1.824076   \n",
       "13484   0.219272          -0.240774 -0.522229  -0.783518 -0.548223   \n",
       "10206  -0.648840          -0.129940 -0.522229   1.084674 -0.548223   \n",
       "12811  -0.270412          -0.247337 -0.522229  -0.741059 -0.548223   \n",
       "5419    0.791600          -0.193130 -0.522229  -0.656141 -0.548223   \n",
       "\n",
       "       has_yardbuilding  has_fireplace  has_basement  has_garage  \\\n",
       "163           -0.187917      -0.357025     -0.023983   -0.629869   \n",
       "13484         -0.187917      -0.357025     -0.023983   -0.629869   \n",
       "10206         -0.187917      -0.357025     -0.023983   -0.629869   \n",
       "12811         -0.187917      -0.357025     -0.023983   -0.629869   \n",
       "5419          -0.187917      -0.357025     -0.023983   -0.629869   \n",
       "\n",
       "       taxvaluedollarcnt      predicted  \n",
       "163             302612.0  439300.756969  \n",
       "13484            94907.0  436186.464678  \n",
       "10206           439335.0  596562.923119  \n",
       "12811           539526.0  635270.653357  \n",
       "5419             19616.0    9543.380244  "
      ]
     },
     "execution_count": 38,
     "metadata": {},
     "output_type": "execute_result"
    }
   ],
   "source": [
    "results, _ = mod.model_predictions(trainx_scaled, train[target], testx_scaled, test[target], model_type=LassoCV() )\n",
    "results.head()"
   ]
  },
  {
   "cell_type": "code",
   "execution_count": 39,
   "metadata": {},
   "outputs": [
    {
     "name": "stdout",
     "output_type": "stream",
     "text": [
      "The r2 is: 0.43118700496531914\n"
     ]
    }
   ],
   "source": [
    "lasso_r2 = explained_variance_score(results.taxvaluedollarcnt, results.predicted)\n",
    "print(f'The r2 is: {lasso_r2}')"
   ]
  },
  {
   "cell_type": "code",
   "execution_count": 40,
   "metadata": {},
   "outputs": [
    {
     "data": {
      "text/html": [
       "<div>\n",
       "<style scoped>\n",
       "    .dataframe tbody tr th:only-of-type {\n",
       "        vertical-align: middle;\n",
       "    }\n",
       "\n",
       "    .dataframe tbody tr th {\n",
       "        vertical-align: top;\n",
       "    }\n",
       "\n",
       "    .dataframe thead th {\n",
       "        text-align: right;\n",
       "    }\n",
       "</style>\n",
       "<table border=\"1\" class=\"dataframe\">\n",
       "  <thead>\n",
       "    <tr style=\"text-align: right;\">\n",
       "      <th></th>\n",
       "      <th>bathroomcnt</th>\n",
       "      <th>bedroomcnt</th>\n",
       "      <th>calculatedfinishedsquarefeet</th>\n",
       "      <th>latitude</th>\n",
       "      <th>longitude</th>\n",
       "      <th>lotsizesquarefeet</th>\n",
       "      <th>roomcnt</th>\n",
       "      <th>yearbuilt</th>\n",
       "      <th>has_pool</th>\n",
       "      <th>has_yardbuilding</th>\n",
       "      <th>has_fireplace</th>\n",
       "      <th>has_basement</th>\n",
       "      <th>has_garage</th>\n",
       "      <th>taxvaluedollarcnt</th>\n",
       "      <th>predicted</th>\n",
       "    </tr>\n",
       "  </thead>\n",
       "  <tbody>\n",
       "    <tr>\n",
       "      <th>163</th>\n",
       "      <td>-0.340444</td>\n",
       "      <td>-0.136495</td>\n",
       "      <td>-0.155692</td>\n",
       "      <td>0.972784</td>\n",
       "      <td>-0.747301</td>\n",
       "      <td>-0.115057</td>\n",
       "      <td>-0.522229</td>\n",
       "      <td>-0.146635</td>\n",
       "      <td>1.824076</td>\n",
       "      <td>-0.187917</td>\n",
       "      <td>-0.357025</td>\n",
       "      <td>-0.023983</td>\n",
       "      <td>-0.629869</td>\n",
       "      <td>302612.0</td>\n",
       "      <td>440372.252216</td>\n",
       "    </tr>\n",
       "    <tr>\n",
       "      <th>13484</th>\n",
       "      <td>-0.340444</td>\n",
       "      <td>-0.136495</td>\n",
       "      <td>-0.190602</td>\n",
       "      <td>-0.004654</td>\n",
       "      <td>0.219272</td>\n",
       "      <td>-0.240774</td>\n",
       "      <td>-0.522229</td>\n",
       "      <td>-0.783518</td>\n",
       "      <td>-0.548223</td>\n",
       "      <td>-0.187917</td>\n",
       "      <td>-0.357025</td>\n",
       "      <td>-0.023983</td>\n",
       "      <td>-0.629869</td>\n",
       "      <td>94907.0</td>\n",
       "      <td>435907.478646</td>\n",
       "    </tr>\n",
       "    <tr>\n",
       "      <th>10206</th>\n",
       "      <td>0.652661</td>\n",
       "      <td>-1.043139</td>\n",
       "      <td>-0.329183</td>\n",
       "      <td>0.143894</td>\n",
       "      <td>-0.648840</td>\n",
       "      <td>-0.129940</td>\n",
       "      <td>-0.522229</td>\n",
       "      <td>1.084674</td>\n",
       "      <td>-0.548223</td>\n",
       "      <td>-0.187917</td>\n",
       "      <td>-0.357025</td>\n",
       "      <td>-0.023983</td>\n",
       "      <td>-0.629869</td>\n",
       "      <td>439335.0</td>\n",
       "      <td>597128.756690</td>\n",
       "    </tr>\n",
       "    <tr>\n",
       "      <th>12811</th>\n",
       "      <td>-0.340444</td>\n",
       "      <td>-0.136495</td>\n",
       "      <td>0.386994</td>\n",
       "      <td>0.342529</td>\n",
       "      <td>-0.270412</td>\n",
       "      <td>-0.247337</td>\n",
       "      <td>-0.522229</td>\n",
       "      <td>-0.741059</td>\n",
       "      <td>-0.548223</td>\n",
       "      <td>-0.187917</td>\n",
       "      <td>-0.357025</td>\n",
       "      <td>-0.023983</td>\n",
       "      <td>-0.629869</td>\n",
       "      <td>539526.0</td>\n",
       "      <td>635287.948380</td>\n",
       "    </tr>\n",
       "    <tr>\n",
       "      <th>5419</th>\n",
       "      <td>-1.333549</td>\n",
       "      <td>-1.043139</td>\n",
       "      <td>-1.271744</td>\n",
       "      <td>0.248488</td>\n",
       "      <td>0.791600</td>\n",
       "      <td>-0.193130</td>\n",
       "      <td>-0.522229</td>\n",
       "      <td>-0.656141</td>\n",
       "      <td>-0.548223</td>\n",
       "      <td>-0.187917</td>\n",
       "      <td>-0.357025</td>\n",
       "      <td>-0.023983</td>\n",
       "      <td>-0.629869</td>\n",
       "      <td>19616.0</td>\n",
       "      <td>8447.862899</td>\n",
       "    </tr>\n",
       "  </tbody>\n",
       "</table>\n",
       "</div>"
      ],
      "text/plain": [
       "       bathroomcnt  bedroomcnt  calculatedfinishedsquarefeet  latitude  \\\n",
       "163      -0.340444   -0.136495                     -0.155692  0.972784   \n",
       "13484    -0.340444   -0.136495                     -0.190602 -0.004654   \n",
       "10206     0.652661   -1.043139                     -0.329183  0.143894   \n",
       "12811    -0.340444   -0.136495                      0.386994  0.342529   \n",
       "5419     -1.333549   -1.043139                     -1.271744  0.248488   \n",
       "\n",
       "       longitude  lotsizesquarefeet   roomcnt  yearbuilt  has_pool  \\\n",
       "163    -0.747301          -0.115057 -0.522229  -0.146635  1.824076   \n",
       "13484   0.219272          -0.240774 -0.522229  -0.783518 -0.548223   \n",
       "10206  -0.648840          -0.129940 -0.522229   1.084674 -0.548223   \n",
       "12811  -0.270412          -0.247337 -0.522229  -0.741059 -0.548223   \n",
       "5419    0.791600          -0.193130 -0.522229  -0.656141 -0.548223   \n",
       "\n",
       "       has_yardbuilding  has_fireplace  has_basement  has_garage  \\\n",
       "163           -0.187917      -0.357025     -0.023983   -0.629869   \n",
       "13484         -0.187917      -0.357025     -0.023983   -0.629869   \n",
       "10206         -0.187917      -0.357025     -0.023983   -0.629869   \n",
       "12811         -0.187917      -0.357025     -0.023983   -0.629869   \n",
       "5419          -0.187917      -0.357025     -0.023983   -0.629869   \n",
       "\n",
       "       taxvaluedollarcnt      predicted  \n",
       "163             302612.0  440372.252216  \n",
       "13484            94907.0  435907.478646  \n",
       "10206           439335.0  597128.756690  \n",
       "12811           539526.0  635287.948380  \n",
       "5419             19616.0    8447.862899  "
      ]
     },
     "execution_count": 40,
     "metadata": {},
     "output_type": "execute_result"
    }
   ],
   "source": [
    "results, model = mod.model_predictions(trainx_scaled, train[target], testx_scaled, test[target], model_type=RidgeCV() )\n",
    "results.head()"
   ]
  },
  {
   "cell_type": "code",
   "execution_count": 41,
   "metadata": {},
   "outputs": [
    {
     "name": "stdout",
     "output_type": "stream",
     "text": [
      "The r2 is: 0.4312059465174547\n"
     ]
    }
   ],
   "source": [
    "ridge_r2 = explained_variance_score(results.taxvaluedollarcnt, results.predicted)\n",
    "print(f'The r2 is: {ridge_r2}')"
   ]
  },
  {
   "cell_type": "markdown",
   "metadata": {},
   "source": [
    "- we're going to stick with the ridge model"
   ]
  },
  {
   "cell_type": "code",
   "execution_count": 42,
   "metadata": {},
   "outputs": [
    {
     "data": {
      "text/plain": [
       "{'sse': 737959878121083.5,\n",
       " 'ess': 542521510034507.9,\n",
       " 'tss': 1280481388155591.5,\n",
       " 'mse': 188495498881.5028,\n",
       " 'rmse': 434160.6832516077}"
      ]
     },
     "execution_count": 42,
     "metadata": {},
     "output_type": "execute_result"
    }
   ],
   "source": [
    "ev.regression_errors(results.taxvaluedollarcnt, results.predicted)"
   ]
  },
  {
   "cell_type": "code",
   "execution_count": 43,
   "metadata": {},
   "outputs": [
    {
     "data": {
      "text/plain": [
       "True"
      ]
     },
     "execution_count": 43,
     "metadata": {},
     "output_type": "execute_result"
    }
   ],
   "source": [
    "ev.better_than_baseline(results.taxvaluedollarcnt, results.predicted)"
   ]
  },
  {
   "cell_type": "code",
   "execution_count": 51,
   "metadata": {},
   "outputs": [],
   "source": [
    "results['baseline'] = np.array(results.taxvaluedollarcnt.mean())\n"
   ]
  },
  {
   "cell_type": "code",
   "execution_count": 57,
   "metadata": {},
   "outputs": [
    {
     "data": {
      "text/plain": [
       "Text(0.5, 1, 'Predicted vs Actual Home Value')"
      ]
     },
     "execution_count": 57,
     "metadata": {},
     "output_type": "execute_result"
    },
    {
     "data": {
      "image/png": "[encoded data removed]",
      "text/plain": [
       "<Figure size 455.5x360 with 1 Axes>"
      ]
     },
     "metadata": {
      "needs_background": "light"
     },
     "output_type": "display_data"
    }
   ],
   "source": [
    "pd.DataFrame({'actual': results.taxvaluedollarcnt,\n",
    "             'lm1': results.predicted.ravel(),\n",
    "             'lm_baseline':results.baseline.ravel()})\\\n",
    ".melt(id_vars=['actual'],var_name='model',value_name='prediction')\\\n",
    ".pipe((sns.relplot,'data'),x='actual',y='prediction',hue='model')\n",
    "plt.plot([0,800_000],[0,350_000],c='black', ls=':')\n",
    "plt.title('Predicted vs Actual Home Value')"
   ]
  },
  {
   "cell_type": "code",
   "execution_count": null,
   "metadata": {},
   "outputs": [],
   "source": []
  },
  {
   "cell_type": "code",
   "execution_count": null,
   "metadata": {},
   "outputs": [],
   "source": []
  }
 ],
 "metadata": {
  "kernelspec": {
   "display_name": "Python 3",
   "language": "python",
   "name": "python3"
  },
  "language_info": {
   "codemirror_mode": {
    "name": "ipython",
    "version": 3
   },
   "file_extension": ".py",
   "mimetype": "text/x-python",
   "name": "python",
   "nbconvert_exporter": "python",
   "pygments_lexer": "ipython3",
   "version": "3.7.3"
  }
 },
 "nbformat": 4,
 "nbformat_minor": 2
}
