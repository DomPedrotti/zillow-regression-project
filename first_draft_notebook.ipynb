{
 "cells": [
  {
   "cell_type": "code",
   "execution_count": 1,
   "metadata": {},
   "outputs": [],
   "source": [
    "import pandas as pd\n",
    "import geopandas\n",
    "import numpy as np\n",
    "\n",
    "import matplotlib.pyplot as plt\n",
    "import seaborn as sns\n",
    "from sklearn.model_selection import train_test_split\n",
    "from sklearn.preprocessing import StandardScaler, MinMaxScaler\n",
    "from sklearn.metrics import mean_squared_error, r2_score, explained_variance_score\n",
    "from math import sqrt\n",
    "import warnings\n",
    "warnings.filterwarnings(\"ignore\")\n",
    "\n",
    "import env\n",
    "import split_scale as ss\n",
    "import features as feat\n",
    "import evaluate as ev"
   ]
  },
  {
   "cell_type": "markdown",
   "metadata": {},
   "source": [
    "## Data Acquisition"
   ]
  },
  {
   "cell_type": "code",
   "execution_count": 2,
   "metadata": {},
   "outputs": [],
   "source": [
    "query = '''\n",
    "select *\n",
    "from properties_2017\n",
    "join predictions_2017 as pred\n",
    "using(parcelid)\n",
    "where pred.`transactiondate` like '%%-05-%%' or pred.`transactiondate` like '%%-06-%%'\n",
    "'''\n",
    "raw_df = pd.read_sql(query, env.get_db_url('zillow'))"
   ]
  },
  {
   "cell_type": "code",
   "execution_count": 3,
   "metadata": {},
   "outputs": [
    {
     "data": {
      "text/html": [
       "<div>\n",
       "<style scoped>\n",
       "    .dataframe tbody tr th:only-of-type {\n",
       "        vertical-align: middle;\n",
       "    }\n",
       "\n",
       "    .dataframe tbody tr th {\n",
       "        vertical-align: top;\n",
       "    }\n",
       "\n",
       "    .dataframe thead th {\n",
       "        text-align: right;\n",
       "    }\n",
       "</style>\n",
       "<table border=\"1\" class=\"dataframe\">\n",
       "  <thead>\n",
       "    <tr style=\"text-align: right;\">\n",
       "      <th></th>\n",
       "      <th>parcelid</th>\n",
       "      <th>id</th>\n",
       "      <th>airconditioningtypeid</th>\n",
       "      <th>architecturalstyletypeid</th>\n",
       "      <th>basementsqft</th>\n",
       "      <th>bathroomcnt</th>\n",
       "      <th>bedroomcnt</th>\n",
       "      <th>buildingclasstypeid</th>\n",
       "      <th>buildingqualitytypeid</th>\n",
       "      <th>calculatedbathnbr</th>\n",
       "      <th>...</th>\n",
       "      <th>taxvaluedollarcnt</th>\n",
       "      <th>assessmentyear</th>\n",
       "      <th>landtaxvaluedollarcnt</th>\n",
       "      <th>taxamount</th>\n",
       "      <th>taxdelinquencyflag</th>\n",
       "      <th>taxdelinquencyyear</th>\n",
       "      <th>censustractandblock</th>\n",
       "      <th>id</th>\n",
       "      <th>logerror</th>\n",
       "      <th>transactiondate</th>\n",
       "    </tr>\n",
       "  </thead>\n",
       "  <tbody>\n",
       "    <tr>\n",
       "      <th>0</th>\n",
       "      <td>11393337</td>\n",
       "      <td>2463969</td>\n",
       "      <td>NaN</td>\n",
       "      <td>NaN</td>\n",
       "      <td>NaN</td>\n",
       "      <td>3.0</td>\n",
       "      <td>3.0</td>\n",
       "      <td>NaN</td>\n",
       "      <td>4.0</td>\n",
       "      <td>3.0</td>\n",
       "      <td>...</td>\n",
       "      <td>43439.0</td>\n",
       "      <td>2016.0</td>\n",
       "      <td>22755.0</td>\n",
       "      <td>756.94</td>\n",
       "      <td>Y</td>\n",
       "      <td>14.0</td>\n",
       "      <td>6.037235e+13</td>\n",
       "      <td>117</td>\n",
       "      <td>0.086137</td>\n",
       "      <td>2017-06-08</td>\n",
       "    </tr>\n",
       "    <tr>\n",
       "      <th>1</th>\n",
       "      <td>11289917</td>\n",
       "      <td>2061546</td>\n",
       "      <td>1.0</td>\n",
       "      <td>NaN</td>\n",
       "      <td>NaN</td>\n",
       "      <td>2.0</td>\n",
       "      <td>3.0</td>\n",
       "      <td>NaN</td>\n",
       "      <td>6.0</td>\n",
       "      <td>2.0</td>\n",
       "      <td>...</td>\n",
       "      <td>136104.0</td>\n",
       "      <td>2016.0</td>\n",
       "      <td>27214.0</td>\n",
       "      <td>2319.90</td>\n",
       "      <td>Y</td>\n",
       "      <td>15.0</td>\n",
       "      <td>6.037901e+13</td>\n",
       "      <td>1248</td>\n",
       "      <td>-0.362001</td>\n",
       "      <td>2017-06-23</td>\n",
       "    </tr>\n",
       "    <tr>\n",
       "      <th>2</th>\n",
       "      <td>11705026</td>\n",
       "      <td>1834372</td>\n",
       "      <td>NaN</td>\n",
       "      <td>NaN</td>\n",
       "      <td>NaN</td>\n",
       "      <td>1.0</td>\n",
       "      <td>2.0</td>\n",
       "      <td>NaN</td>\n",
       "      <td>6.0</td>\n",
       "      <td>1.0</td>\n",
       "      <td>...</td>\n",
       "      <td>35606.0</td>\n",
       "      <td>2016.0</td>\n",
       "      <td>23624.0</td>\n",
       "      <td>543.69</td>\n",
       "      <td>None</td>\n",
       "      <td>NaN</td>\n",
       "      <td>6.037232e+13</td>\n",
       "      <td>1772</td>\n",
       "      <td>-0.146056</td>\n",
       "      <td>2017-06-30</td>\n",
       "    </tr>\n",
       "    <tr>\n",
       "      <th>3</th>\n",
       "      <td>14269464</td>\n",
       "      <td>1923117</td>\n",
       "      <td>NaN</td>\n",
       "      <td>NaN</td>\n",
       "      <td>NaN</td>\n",
       "      <td>3.0</td>\n",
       "      <td>4.0</td>\n",
       "      <td>NaN</td>\n",
       "      <td>NaN</td>\n",
       "      <td>3.0</td>\n",
       "      <td>...</td>\n",
       "      <td>880456.0</td>\n",
       "      <td>2016.0</td>\n",
       "      <td>445569.0</td>\n",
       "      <td>9819.72</td>\n",
       "      <td>None</td>\n",
       "      <td>NaN</td>\n",
       "      <td>6.059064e+13</td>\n",
       "      <td>2028</td>\n",
       "      <td>0.021085</td>\n",
       "      <td>2017-06-01</td>\n",
       "    </tr>\n",
       "    <tr>\n",
       "      <th>4</th>\n",
       "      <td>11389003</td>\n",
       "      <td>2121349</td>\n",
       "      <td>NaN</td>\n",
       "      <td>NaN</td>\n",
       "      <td>NaN</td>\n",
       "      <td>2.0</td>\n",
       "      <td>3.0</td>\n",
       "      <td>NaN</td>\n",
       "      <td>6.0</td>\n",
       "      <td>2.0</td>\n",
       "      <td>...</td>\n",
       "      <td>614000.0</td>\n",
       "      <td>2016.0</td>\n",
       "      <td>449000.0</td>\n",
       "      <td>7673.19</td>\n",
       "      <td>None</td>\n",
       "      <td>NaN</td>\n",
       "      <td>6.037703e+13</td>\n",
       "      <td>3273</td>\n",
       "      <td>-0.325393</td>\n",
       "      <td>2017-06-01</td>\n",
       "    </tr>\n",
       "  </tbody>\n",
       "</table>\n",
       "<p>5 rows × 62 columns</p>\n",
       "</div>"
      ],
      "text/plain": [
       "   parcelid       id  airconditioningtypeid  architecturalstyletypeid  \\\n",
       "0  11393337  2463969                    NaN                       NaN   \n",
       "1  11289917  2061546                    1.0                       NaN   \n",
       "2  11705026  1834372                    NaN                       NaN   \n",
       "3  14269464  1923117                    NaN                       NaN   \n",
       "4  11389003  2121349                    NaN                       NaN   \n",
       "\n",
       "   basementsqft  bathroomcnt  bedroomcnt  buildingclasstypeid  \\\n",
       "0           NaN          3.0         3.0                  NaN   \n",
       "1           NaN          2.0         3.0                  NaN   \n",
       "2           NaN          1.0         2.0                  NaN   \n",
       "3           NaN          3.0         4.0                  NaN   \n",
       "4           NaN          2.0         3.0                  NaN   \n",
       "\n",
       "   buildingqualitytypeid  calculatedbathnbr  ...  taxvaluedollarcnt  \\\n",
       "0                    4.0                3.0  ...            43439.0   \n",
       "1                    6.0                2.0  ...           136104.0   \n",
       "2                    6.0                1.0  ...            35606.0   \n",
       "3                    NaN                3.0  ...           880456.0   \n",
       "4                    6.0                2.0  ...           614000.0   \n",
       "\n",
       "   assessmentyear  landtaxvaluedollarcnt  taxamount  taxdelinquencyflag  \\\n",
       "0          2016.0                22755.0     756.94                   Y   \n",
       "1          2016.0                27214.0    2319.90                   Y   \n",
       "2          2016.0                23624.0     543.69                None   \n",
       "3          2016.0               445569.0    9819.72                None   \n",
       "4          2016.0               449000.0    7673.19                None   \n",
       "\n",
       "   taxdelinquencyyear  censustractandblock    id  logerror  transactiondate  \n",
       "0                14.0         6.037235e+13   117  0.086137       2017-06-08  \n",
       "1                15.0         6.037901e+13  1248 -0.362001       2017-06-23  \n",
       "2                 NaN         6.037232e+13  1772 -0.146056       2017-06-30  \n",
       "3                 NaN         6.059064e+13  2028  0.021085       2017-06-01  \n",
       "4                 NaN         6.037703e+13  3273 -0.325393       2017-06-01  \n",
       "\n",
       "[5 rows x 62 columns]"
      ]
     },
     "execution_count": 3,
     "metadata": {},
     "output_type": "execute_result"
    }
   ],
   "source": [
    "raw_df.head()"
   ]
  },
  {
   "cell_type": "code",
   "execution_count": 4,
   "metadata": {},
   "outputs": [
    {
     "name": "stdout",
     "output_type": "stream",
     "text": [
      "<class 'pandas.core.frame.DataFrame'>\n",
      "RangeIndex: 21944 entries, 0 to 21943\n",
      "Data columns (total 62 columns):\n",
      "parcelid                        21944 non-null int64\n",
      "id                              21944 non-null int64\n",
      "airconditioningtypeid           7088 non-null float64\n",
      "architecturalstyletypeid        49 non-null float64\n",
      "basementsqft                    12 non-null float64\n",
      "bathroomcnt                     21938 non-null float64\n",
      "bedroomcnt                      21938 non-null float64\n",
      "buildingclasstypeid             4 non-null float64\n",
      "buildingqualitytypeid           13949 non-null float64\n",
      "calculatedbathnbr               21762 non-null float64\n",
      "decktypeid                      179 non-null float64\n",
      "finishedfloor1squarefeet        1765 non-null float64\n",
      "calculatedfinishedsquarefeet    21883 non-null float64\n",
      "finishedsquarefeet12            20951 non-null float64\n",
      "finishedsquarefeet13            12 non-null float64\n",
      "finishedsquarefeet15            810 non-null float64\n",
      "finishedsquarefeet50            1765 non-null float64\n",
      "finishedsquarefeet6             110 non-null float64\n",
      "fips                            21938 non-null float64\n",
      "fireplacecnt                    2432 non-null float64\n",
      "fullbathcnt                     21762 non-null float64\n",
      "garagecarcnt                    7368 non-null float64\n",
      "garagetotalsqft                 7368 non-null float64\n",
      "hashottuborspa                  480 non-null float64\n",
      "heatingorsystemtypeid           13889 non-null float64\n",
      "latitude                        21938 non-null float64\n",
      "longitude                       21938 non-null float64\n",
      "lotsizesquarefeet               19642 non-null float64\n",
      "poolcnt                         4658 non-null float64\n",
      "poolsizesum                     269 non-null float64\n",
      "pooltypeid10                    138 non-null float64\n",
      "pooltypeid2                     342 non-null float64\n",
      "pooltypeid7                     4313 non-null float64\n",
      "propertycountylandusecode       21938 non-null object\n",
      "propertylandusetypeid           21938 non-null float64\n",
      "propertyzoningdesc              14147 non-null object\n",
      "rawcensustractandblock          21938 non-null float64\n",
      "regionidcity                    21541 non-null float64\n",
      "regionidcounty                  21938 non-null float64\n",
      "regionidneighborhood            8806 non-null float64\n",
      "regionidzip                     21924 non-null float64\n",
      "roomcnt                         21938 non-null float64\n",
      "storytypeid                     12 non-null float64\n",
      "threequarterbathnbr             2958 non-null float64\n",
      "typeconstructiontypeid          51 non-null float64\n",
      "unitcnt                         14196 non-null float64\n",
      "yardbuildingsqft17              724 non-null float64\n",
      "yardbuildingsqft26              23 non-null float64\n",
      "yearbuilt                       21857 non-null float64\n",
      "numberofstories                 5046 non-null float64\n",
      "fireplaceflag                   43 non-null float64\n",
      "structuretaxvaluedollarcnt      21902 non-null float64\n",
      "taxvaluedollarcnt               21938 non-null float64\n",
      "assessmentyear                  21938 non-null float64\n",
      "landtaxvaluedollarcnt           21938 non-null float64\n",
      "taxamount                       21937 non-null float64\n",
      "taxdelinquencyflag              741 non-null object\n",
      "taxdelinquencyyear              741 non-null float64\n",
      "censustractandblock             21857 non-null float64\n",
      "id                              21944 non-null int64\n",
      "logerror                        21944 non-null float64\n",
      "transactiondate                 21944 non-null object\n",
      "dtypes: float64(55), int64(3), object(4)\n",
      "memory usage: 10.4+ MB\n"
     ]
    }
   ],
   "source": [
    "raw_df.info()"
   ]
  },
  {
   "cell_type": "code",
   "execution_count": 5,
   "metadata": {},
   "outputs": [],
   "source": [
    "raw_df = raw_df.drop('id', axis = 1)"
   ]
  },
  {
   "cell_type": "markdown",
   "metadata": {},
   "source": [
    "- drop non-number columns"
   ]
  },
  {
   "cell_type": "code",
   "execution_count": 6,
   "metadata": {},
   "outputs": [],
   "source": [
    "df = raw_df.select_dtypes(exclude=['object'])"
   ]
  },
  {
   "cell_type": "markdown",
   "metadata": {},
   "source": [
    "- boolean columns (dummy variables)"
   ]
  },
  {
   "cell_type": "code",
   "execution_count": 7,
   "metadata": {},
   "outputs": [],
   "source": [
    "df['has_pool'] = (df.poolcnt >= 1).astype(int)\n",
    "df['has_yardbuilding'] = ((df.yardbuildingsqft17 >= 0)|(df.yardbuildingsqft26 >= 0)).astype(int)\n",
    "df['has_fireplace'] = (df.fireplacecnt >= 1).astype(int)\n",
    "df['has_basement'] = (df.basementsqft >= 1).astype(int)\n",
    "df['has_garage'] = (df.garagecarcnt >= 1).astype(int)"
   ]
  },
  {
   "cell_type": "markdown",
   "metadata": {},
   "source": [
    "- drop columns with insuffecient data"
   ]
  },
  {
   "cell_type": "code",
   "execution_count": 8,
   "metadata": {},
   "outputs": [],
   "source": [
    "df = df[df.columns[df.isnull().mean() < 0.2]]"
   ]
  },
  {
   "cell_type": "markdown",
   "metadata": {},
   "source": [
    "- drop redundant columns"
   ]
  },
  {
   "cell_type": "code",
   "execution_count": 9,
   "metadata": {},
   "outputs": [],
   "source": [
    "df = df.drop('calculatedbathnbr', axis = 1).drop('finishedsquarefeet12', axis = 1).drop('fullbathcnt', axis = 1)"
   ]
  },
  {
   "cell_type": "markdown",
   "metadata": {},
   "source": [
    "- drop columns with high correlation"
   ]
  },
  {
   "cell_type": "code",
   "execution_count": 10,
   "metadata": {},
   "outputs": [],
   "source": [
    "df = df.drop('rawcensustractandblock', axis = 1).drop('structuretaxvaluedollarcnt', axis = 1).drop('landtaxvaluedollarcnt', axis = 1).drop('taxamount', axis = 1).drop('censustractandblock', axis = 1).drop('logerror', axis = 1)"
   ]
  },
  {
   "cell_type": "markdown",
   "metadata": {},
   "source": [
    "- drop columns that represent categorical variables"
   ]
  },
  {
   "cell_type": "code",
   "execution_count": 11,
   "metadata": {},
   "outputs": [],
   "source": [
    "df = df.drop('parcelid', axis = 1).drop('propertylandusetypeid', axis = 1).drop('regionidcity', axis = 1).drop('regionidcounty', axis = 1).drop('regionidzip', axis = 1).drop('fips', axis = 1)"
   ]
  },
  {
   "cell_type": "markdown",
   "metadata": {},
   "source": [
    "- drop columns with no variance"
   ]
  },
  {
   "cell_type": "code",
   "execution_count": 12,
   "metadata": {},
   "outputs": [],
   "source": [
    "df = df.drop('assessmentyear', axis = 1)"
   ]
  },
  {
   "cell_type": "markdown",
   "metadata": {},
   "source": [
    "- drop nulls"
   ]
  },
  {
   "cell_type": "code",
   "execution_count": 13,
   "metadata": {},
   "outputs": [],
   "source": [
    "df = df.dropna()"
   ]
  },
  {
   "cell_type": "code",
   "execution_count": 14,
   "metadata": {},
   "outputs": [
    {
     "name": "stdout",
     "output_type": "stream",
     "text": [
      "<class 'pandas.core.frame.DataFrame'>\n",
      "Int64Index: 19581 entries, 0 to 21943\n",
      "Data columns (total 14 columns):\n",
      "bathroomcnt                     19581 non-null float64\n",
      "bedroomcnt                      19581 non-null float64\n",
      "calculatedfinishedsquarefeet    19581 non-null float64\n",
      "latitude                        19581 non-null float64\n",
      "longitude                       19581 non-null float64\n",
      "lotsizesquarefeet               19581 non-null float64\n",
      "roomcnt                         19581 non-null float64\n",
      "yearbuilt                       19581 non-null float64\n",
      "taxvaluedollarcnt               19581 non-null float64\n",
      "has_pool                        19581 non-null int64\n",
      "has_yardbuilding                19581 non-null int64\n",
      "has_fireplace                   19581 non-null int64\n",
      "has_basement                    19581 non-null int64\n",
      "has_garage                      19581 non-null int64\n",
      "dtypes: float64(9), int64(5)\n",
      "memory usage: 2.2 MB\n"
     ]
    }
   ],
   "source": [
    "df.info()"
   ]
  },
  {
   "cell_type": "markdown",
   "metadata": {},
   "source": [
    "## Explore"
   ]
  },
  {
   "cell_type": "markdown",
   "metadata": {},
   "source": [
    "- establish features and target"
   ]
  },
  {
   "cell_type": "code",
   "execution_count": 28,
   "metadata": {},
   "outputs": [],
   "source": [
    "target = ['taxvaluedollarcnt']\n",
    "feature = ['bathroomcnt', 'bedroomcnt', 'calculatedfinishedsquarefeet', 'latitude',\n",
    "           'longitude', 'lotsizesquarefeet', 'roomcnt', 'yearbuilt', 'has_pool', \n",
    "           'has_yardbuilding', 'has_fireplace', 'has_basement', 'has_garage']"
   ]
  },
  {
   "cell_type": "code",
   "execution_count": 16,
   "metadata": {},
   "outputs": [
    {
     "data": {
      "text/plain": [
       "Index(['bathroomcnt', 'bedroomcnt', 'calculatedfinishedsquarefeet', 'latitude',\n",
       "       'longitude', 'lotsizesquarefeet', 'roomcnt', 'yearbuilt',\n",
       "       'taxvaluedollarcnt', 'has_pool', 'has_yardbuilding', 'has_fireplace',\n",
       "       'has_basement', 'has_garage'],\n",
       "      dtype='object')"
      ]
     },
     "execution_count": 16,
     "metadata": {},
     "output_type": "execute_result"
    }
   ],
   "source": [
    "df.columns"
   ]
  },
  {
   "cell_type": "markdown",
   "metadata": {},
   "source": [
    "- check correlation\n",
    "- bathroom count, bedroomcount, house squarefootage, year built, and having a pool seem to have the srtongest correlation with property value"
   ]
  },
  {
   "cell_type": "code",
   "execution_count": 17,
   "metadata": {},
   "outputs": [
    {
     "data": {
      "text/html": [
       "<div>\n",
       "<style scoped>\n",
       "    .dataframe tbody tr th:only-of-type {\n",
       "        vertical-align: middle;\n",
       "    }\n",
       "\n",
       "    .dataframe tbody tr th {\n",
       "        vertical-align: top;\n",
       "    }\n",
       "\n",
       "    .dataframe thead th {\n",
       "        text-align: right;\n",
       "    }\n",
       "</style>\n",
       "<table border=\"1\" class=\"dataframe\">\n",
       "  <thead>\n",
       "    <tr style=\"text-align: right;\">\n",
       "      <th></th>\n",
       "      <th>bathroomcnt</th>\n",
       "      <th>bedroomcnt</th>\n",
       "      <th>calculatedfinishedsquarefeet</th>\n",
       "      <th>latitude</th>\n",
       "      <th>longitude</th>\n",
       "      <th>lotsizesquarefeet</th>\n",
       "      <th>roomcnt</th>\n",
       "      <th>yearbuilt</th>\n",
       "      <th>taxvaluedollarcnt</th>\n",
       "      <th>has_pool</th>\n",
       "      <th>has_yardbuilding</th>\n",
       "      <th>has_fireplace</th>\n",
       "      <th>has_basement</th>\n",
       "      <th>has_garage</th>\n",
       "    </tr>\n",
       "  </thead>\n",
       "  <tbody>\n",
       "    <tr>\n",
       "      <th>bathroomcnt</th>\n",
       "      <td>1.000000</td>\n",
       "      <td>0.622210</td>\n",
       "      <td>0.759734</td>\n",
       "      <td>-0.003156</td>\n",
       "      <td>-0.003405</td>\n",
       "      <td>0.015360</td>\n",
       "      <td>0.037074</td>\n",
       "      <td>0.417113</td>\n",
       "      <td>0.468093</td>\n",
       "      <td>0.232607</td>\n",
       "      <td>0.021702</td>\n",
       "      <td>0.063431</td>\n",
       "      <td>0.006889</td>\n",
       "      <td>0.111402</td>\n",
       "    </tr>\n",
       "    <tr>\n",
       "      <th>bedroomcnt</th>\n",
       "      <td>0.622210</td>\n",
       "      <td>1.000000</td>\n",
       "      <td>0.598998</td>\n",
       "      <td>0.005083</td>\n",
       "      <td>0.048395</td>\n",
       "      <td>-0.140003</td>\n",
       "      <td>0.172586</td>\n",
       "      <td>0.134962</td>\n",
       "      <td>0.240394</td>\n",
       "      <td>0.090649</td>\n",
       "      <td>0.060585</td>\n",
       "      <td>0.121422</td>\n",
       "      <td>0.002110</td>\n",
       "      <td>0.174275</td>\n",
       "    </tr>\n",
       "    <tr>\n",
       "      <th>calculatedfinishedsquarefeet</th>\n",
       "      <td>0.759734</td>\n",
       "      <td>0.598998</td>\n",
       "      <td>1.000000</td>\n",
       "      <td>-0.055579</td>\n",
       "      <td>0.031069</td>\n",
       "      <td>-0.057602</td>\n",
       "      <td>0.095842</td>\n",
       "      <td>0.281711</td>\n",
       "      <td>0.571867</td>\n",
       "      <td>0.236032</td>\n",
       "      <td>0.039305</td>\n",
       "      <td>0.106897</td>\n",
       "      <td>0.008429</td>\n",
       "      <td>0.161908</td>\n",
       "    </tr>\n",
       "    <tr>\n",
       "      <th>latitude</th>\n",
       "      <td>-0.003156</td>\n",
       "      <td>0.005083</td>\n",
       "      <td>-0.055579</td>\n",
       "      <td>1.000000</td>\n",
       "      <td>-0.542190</td>\n",
       "      <td>0.096380</td>\n",
       "      <td>-0.252513</td>\n",
       "      <td>0.068519</td>\n",
       "      <td>-0.130317</td>\n",
       "      <td>0.033400</td>\n",
       "      <td>0.153172</td>\n",
       "      <td>-0.057309</td>\n",
       "      <td>0.022955</td>\n",
       "      <td>-0.429416</td>\n",
       "    </tr>\n",
       "    <tr>\n",
       "      <th>longitude</th>\n",
       "      <td>-0.003405</td>\n",
       "      <td>0.048395</td>\n",
       "      <td>0.031069</td>\n",
       "      <td>-0.542190</td>\n",
       "      <td>1.000000</td>\n",
       "      <td>-0.082549</td>\n",
       "      <td>-0.020334</td>\n",
       "      <td>0.038345</td>\n",
       "      <td>-0.016763</td>\n",
       "      <td>-0.041662</td>\n",
       "      <td>-0.391188</td>\n",
       "      <td>-0.208060</td>\n",
       "      <td>-0.046850</td>\n",
       "      <td>0.161764</td>\n",
       "    </tr>\n",
       "    <tr>\n",
       "      <th>lotsizesquarefeet</th>\n",
       "      <td>0.015360</td>\n",
       "      <td>-0.140003</td>\n",
       "      <td>-0.057602</td>\n",
       "      <td>0.096380</td>\n",
       "      <td>-0.082549</td>\n",
       "      <td>1.000000</td>\n",
       "      <td>-0.103279</td>\n",
       "      <td>0.133053</td>\n",
       "      <td>-0.020041</td>\n",
       "      <td>0.153252</td>\n",
       "      <td>-0.026155</td>\n",
       "      <td>-0.065593</td>\n",
       "      <td>-0.000941</td>\n",
       "      <td>-0.131188</td>\n",
       "    </tr>\n",
       "    <tr>\n",
       "      <th>roomcnt</th>\n",
       "      <td>0.037074</td>\n",
       "      <td>0.172586</td>\n",
       "      <td>0.095842</td>\n",
       "      <td>-0.252513</td>\n",
       "      <td>-0.020334</td>\n",
       "      <td>-0.103279</td>\n",
       "      <td>1.000000</td>\n",
       "      <td>0.105798</td>\n",
       "      <td>0.002350</td>\n",
       "      <td>0.029481</td>\n",
       "      <td>0.346307</td>\n",
       "      <td>0.673072</td>\n",
       "      <td>0.043943</td>\n",
       "      <td>0.802991</td>\n",
       "    </tr>\n",
       "    <tr>\n",
       "      <th>yearbuilt</th>\n",
       "      <td>0.417113</td>\n",
       "      <td>0.134962</td>\n",
       "      <td>0.281711</td>\n",
       "      <td>0.068519</td>\n",
       "      <td>0.038345</td>\n",
       "      <td>0.133053</td>\n",
       "      <td>0.105798</td>\n",
       "      <td>1.000000</td>\n",
       "      <td>0.137486</td>\n",
       "      <td>0.126456</td>\n",
       "      <td>0.071203</td>\n",
       "      <td>0.127661</td>\n",
       "      <td>-0.008419</td>\n",
       "      <td>0.262016</td>\n",
       "    </tr>\n",
       "    <tr>\n",
       "      <th>taxvaluedollarcnt</th>\n",
       "      <td>0.468093</td>\n",
       "      <td>0.240394</td>\n",
       "      <td>0.571867</td>\n",
       "      <td>-0.130317</td>\n",
       "      <td>-0.016763</td>\n",
       "      <td>-0.020041</td>\n",
       "      <td>0.002350</td>\n",
       "      <td>0.137486</td>\n",
       "      <td>1.000000</td>\n",
       "      <td>0.174155</td>\n",
       "      <td>-0.001038</td>\n",
       "      <td>0.018737</td>\n",
       "      <td>0.000629</td>\n",
       "      <td>0.065756</td>\n",
       "    </tr>\n",
       "    <tr>\n",
       "      <th>has_pool</th>\n",
       "      <td>0.232607</td>\n",
       "      <td>0.090649</td>\n",
       "      <td>0.236032</td>\n",
       "      <td>0.033400</td>\n",
       "      <td>-0.041662</td>\n",
       "      <td>0.153252</td>\n",
       "      <td>0.029481</td>\n",
       "      <td>0.126456</td>\n",
       "      <td>0.174155</td>\n",
       "      <td>1.000000</td>\n",
       "      <td>0.002262</td>\n",
       "      <td>0.033068</td>\n",
       "      <td>-0.003817</td>\n",
       "      <td>-0.006146</td>\n",
       "    </tr>\n",
       "    <tr>\n",
       "      <th>has_yardbuilding</th>\n",
       "      <td>0.021702</td>\n",
       "      <td>0.060585</td>\n",
       "      <td>0.039305</td>\n",
       "      <td>0.153172</td>\n",
       "      <td>-0.391188</td>\n",
       "      <td>-0.026155</td>\n",
       "      <td>0.346307</td>\n",
       "      <td>0.071203</td>\n",
       "      <td>-0.001038</td>\n",
       "      <td>0.002262</td>\n",
       "      <td>1.000000</td>\n",
       "      <td>0.389037</td>\n",
       "      <td>0.029593</td>\n",
       "      <td>0.295487</td>\n",
       "    </tr>\n",
       "    <tr>\n",
       "      <th>has_fireplace</th>\n",
       "      <td>0.063431</td>\n",
       "      <td>0.121422</td>\n",
       "      <td>0.106897</td>\n",
       "      <td>-0.057309</td>\n",
       "      <td>-0.208060</td>\n",
       "      <td>-0.065593</td>\n",
       "      <td>0.673072</td>\n",
       "      <td>0.127661</td>\n",
       "      <td>0.018737</td>\n",
       "      <td>0.033068</td>\n",
       "      <td>0.389037</td>\n",
       "      <td>1.000000</td>\n",
       "      <td>0.043215</td>\n",
       "      <td>0.558848</td>\n",
       "    </tr>\n",
       "    <tr>\n",
       "      <th>has_basement</th>\n",
       "      <td>0.006889</td>\n",
       "      <td>0.002110</td>\n",
       "      <td>0.008429</td>\n",
       "      <td>0.022955</td>\n",
       "      <td>-0.046850</td>\n",
       "      <td>-0.000941</td>\n",
       "      <td>0.043943</td>\n",
       "      <td>-0.008419</td>\n",
       "      <td>0.000629</td>\n",
       "      <td>-0.003817</td>\n",
       "      <td>0.029593</td>\n",
       "      <td>0.043215</td>\n",
       "      <td>1.000000</td>\n",
       "      <td>0.034837</td>\n",
       "    </tr>\n",
       "    <tr>\n",
       "      <th>has_garage</th>\n",
       "      <td>0.111402</td>\n",
       "      <td>0.174275</td>\n",
       "      <td>0.161908</td>\n",
       "      <td>-0.429416</td>\n",
       "      <td>0.161764</td>\n",
       "      <td>-0.131188</td>\n",
       "      <td>0.802991</td>\n",
       "      <td>0.262016</td>\n",
       "      <td>0.065756</td>\n",
       "      <td>-0.006146</td>\n",
       "      <td>0.295487</td>\n",
       "      <td>0.558848</td>\n",
       "      <td>0.034837</td>\n",
       "      <td>1.000000</td>\n",
       "    </tr>\n",
       "  </tbody>\n",
       "</table>\n",
       "</div>"
      ],
      "text/plain": [
       "                              bathroomcnt  bedroomcnt  \\\n",
       "bathroomcnt                      1.000000    0.622210   \n",
       "bedroomcnt                       0.622210    1.000000   \n",
       "calculatedfinishedsquarefeet     0.759734    0.598998   \n",
       "latitude                        -0.003156    0.005083   \n",
       "longitude                       -0.003405    0.048395   \n",
       "lotsizesquarefeet                0.015360   -0.140003   \n",
       "roomcnt                          0.037074    0.172586   \n",
       "yearbuilt                        0.417113    0.134962   \n",
       "taxvaluedollarcnt                0.468093    0.240394   \n",
       "has_pool                         0.232607    0.090649   \n",
       "has_yardbuilding                 0.021702    0.060585   \n",
       "has_fireplace                    0.063431    0.121422   \n",
       "has_basement                     0.006889    0.002110   \n",
       "has_garage                       0.111402    0.174275   \n",
       "\n",
       "                              calculatedfinishedsquarefeet  latitude  \\\n",
       "bathroomcnt                                       0.759734 -0.003156   \n",
       "bedroomcnt                                        0.598998  0.005083   \n",
       "calculatedfinishedsquarefeet                      1.000000 -0.055579   \n",
       "latitude                                         -0.055579  1.000000   \n",
       "longitude                                         0.031069 -0.542190   \n",
       "lotsizesquarefeet                                -0.057602  0.096380   \n",
       "roomcnt                                           0.095842 -0.252513   \n",
       "yearbuilt                                         0.281711  0.068519   \n",
       "taxvaluedollarcnt                                 0.571867 -0.130317   \n",
       "has_pool                                          0.236032  0.033400   \n",
       "has_yardbuilding                                  0.039305  0.153172   \n",
       "has_fireplace                                     0.106897 -0.057309   \n",
       "has_basement                                      0.008429  0.022955   \n",
       "has_garage                                        0.161908 -0.429416   \n",
       "\n",
       "                              longitude  lotsizesquarefeet   roomcnt  \\\n",
       "bathroomcnt                   -0.003405           0.015360  0.037074   \n",
       "bedroomcnt                     0.048395          -0.140003  0.172586   \n",
       "calculatedfinishedsquarefeet   0.031069          -0.057602  0.095842   \n",
       "latitude                      -0.542190           0.096380 -0.252513   \n",
       "longitude                      1.000000          -0.082549 -0.020334   \n",
       "lotsizesquarefeet             -0.082549           1.000000 -0.103279   \n",
       "roomcnt                       -0.020334          -0.103279  1.000000   \n",
       "yearbuilt                      0.038345           0.133053  0.105798   \n",
       "taxvaluedollarcnt             -0.016763          -0.020041  0.002350   \n",
       "has_pool                      -0.041662           0.153252  0.029481   \n",
       "has_yardbuilding              -0.391188          -0.026155  0.346307   \n",
       "has_fireplace                 -0.208060          -0.065593  0.673072   \n",
       "has_basement                  -0.046850          -0.000941  0.043943   \n",
       "has_garage                     0.161764          -0.131188  0.802991   \n",
       "\n",
       "                              yearbuilt  taxvaluedollarcnt  has_pool  \\\n",
       "bathroomcnt                    0.417113           0.468093  0.232607   \n",
       "bedroomcnt                     0.134962           0.240394  0.090649   \n",
       "calculatedfinishedsquarefeet   0.281711           0.571867  0.236032   \n",
       "latitude                       0.068519          -0.130317  0.033400   \n",
       "longitude                      0.038345          -0.016763 -0.041662   \n",
       "lotsizesquarefeet              0.133053          -0.020041  0.153252   \n",
       "roomcnt                        0.105798           0.002350  0.029481   \n",
       "yearbuilt                      1.000000           0.137486  0.126456   \n",
       "taxvaluedollarcnt              0.137486           1.000000  0.174155   \n",
       "has_pool                       0.126456           0.174155  1.000000   \n",
       "has_yardbuilding               0.071203          -0.001038  0.002262   \n",
       "has_fireplace                  0.127661           0.018737  0.033068   \n",
       "has_basement                  -0.008419           0.000629 -0.003817   \n",
       "has_garage                     0.262016           0.065756 -0.006146   \n",
       "\n",
       "                              has_yardbuilding  has_fireplace  has_basement  \\\n",
       "bathroomcnt                           0.021702       0.063431      0.006889   \n",
       "bedroomcnt                            0.060585       0.121422      0.002110   \n",
       "calculatedfinishedsquarefeet          0.039305       0.106897      0.008429   \n",
       "latitude                              0.153172      -0.057309      0.022955   \n",
       "longitude                            -0.391188      -0.208060     -0.046850   \n",
       "lotsizesquarefeet                    -0.026155      -0.065593     -0.000941   \n",
       "roomcnt                               0.346307       0.673072      0.043943   \n",
       "yearbuilt                             0.071203       0.127661     -0.008419   \n",
       "taxvaluedollarcnt                    -0.001038       0.018737      0.000629   \n",
       "has_pool                              0.002262       0.033068     -0.003817   \n",
       "has_yardbuilding                      1.000000       0.389037      0.029593   \n",
       "has_fireplace                         0.389037       1.000000      0.043215   \n",
       "has_basement                          0.029593       0.043215      1.000000   \n",
       "has_garage                            0.295487       0.558848      0.034837   \n",
       "\n",
       "                              has_garage  \n",
       "bathroomcnt                     0.111402  \n",
       "bedroomcnt                      0.174275  \n",
       "calculatedfinishedsquarefeet    0.161908  \n",
       "latitude                       -0.429416  \n",
       "longitude                       0.161764  \n",
       "lotsizesquarefeet              -0.131188  \n",
       "roomcnt                         0.802991  \n",
       "yearbuilt                       0.262016  \n",
       "taxvaluedollarcnt               0.065756  \n",
       "has_pool                       -0.006146  \n",
       "has_yardbuilding                0.295487  \n",
       "has_fireplace                   0.558848  \n",
       "has_basement                    0.034837  \n",
       "has_garage                      1.000000  "
      ]
     },
     "execution_count": 17,
     "metadata": {},
     "output_type": "execute_result"
    }
   ],
   "source": [
    "df.corr()"
   ]
  },
  {
   "cell_type": "code",
   "execution_count": 18,
   "metadata": {},
   "outputs": [
    {
     "data": {
      "text/plain": [
       "<matplotlib.axes._subplots.AxesSubplot at 0x1c2be6d5c0>"
      ]
     },
     "execution_count": 18,
     "metadata": {},
     "output_type": "execute_result"
    },
    {
     "data": {
      "image/png": "[encoded data removed]",
      "text/plain": [
       "<Figure size 432x288 with 2 Axes>"
      ]
     },
     "metadata": {
      "needs_background": "light"
     },
     "output_type": "display_data"
    }
   ],
   "source": [
    "sns.heatmap(df.corr())"
   ]
  },
  {
   "cell_type": "markdown",
   "metadata": {},
   "source": [
    "- average price by year built"
   ]
  },
  {
   "cell_type": "code",
   "execution_count": 19,
   "metadata": {},
   "outputs": [
    {
     "data": {
      "text/plain": [
       "<matplotlib.axes._subplots.AxesSubplot at 0x1c2c0d5128>"
      ]
     },
     "execution_count": 19,
     "metadata": {},
     "output_type": "execute_result"
    },
    {
     "data": {
      "image/png": "[encoded data removed]",
      "text/plain": [
       "<Figure size 432x288 with 1 Axes>"
      ]
     },
     "metadata": {
      "needs_background": "light"
     },
     "output_type": "display_data"
    }
   ],
   "source": [
    "sns.scatterplot(data = df.groupby('yearbuilt').mean().taxvaluedollarcnt)"
   ]
  },
  {
   "cell_type": "markdown",
   "metadata": {},
   "source": [
    "- average price by house size"
   ]
  },
  {
   "cell_type": "code",
   "execution_count": 20,
   "metadata": {},
   "outputs": [
    {
     "data": {
      "text/plain": [
       "<matplotlib.axes._subplots.AxesSubplot at 0x1c2c1ac438>"
      ]
     },
     "execution_count": 20,
     "metadata": {},
     "output_type": "execute_result"
    },
    {
     "data": {
      "image/png": "[encoded data removed]",
      "text/plain": [
       "<Figure size 432x288 with 1 Axes>"
      ]
     },
     "metadata": {
      "needs_background": "light"
     },
     "output_type": "display_data"
    }
   ],
   "source": [
    "sns.scatterplot(data = df.groupby('calculatedfinishedsquarefeet').mean().taxvaluedollarcnt)"
   ]
  },
  {
   "cell_type": "markdown",
   "metadata": {},
   "source": [
    "- average price by bedroom count"
   ]
  },
  {
   "cell_type": "code",
   "execution_count": 21,
   "metadata": {},
   "outputs": [
    {
     "data": {
      "text/plain": [
       "<matplotlib.axes._subplots.AxesSubplot at 0x1c2c240518>"
      ]
     },
     "execution_count": 21,
     "metadata": {},
     "output_type": "execute_result"
    },
    {
     "data": {
      "image/png": "[encoded data removed]",
      "text/plain": [
       "<Figure size 432x288 with 1 Axes>"
      ]
     },
     "metadata": {
      "needs_background": "light"
     },
     "output_type": "display_data"
    }
   ],
   "source": [
    "sns.scatterplot(data = df.groupby('bedroomcnt').mean().taxvaluedollarcnt)"
   ]
  },
  {
   "cell_type": "markdown",
   "metadata": {},
   "source": [
    "- average price by bathroom count"
   ]
  },
  {
   "cell_type": "code",
   "execution_count": 22,
   "metadata": {},
   "outputs": [
    {
     "data": {
      "text/plain": [
       "<matplotlib.axes._subplots.AxesSubplot at 0x1c2c24df60>"
      ]
     },
     "execution_count": 22,
     "metadata": {},
     "output_type": "execute_result"
    },
    {
     "data": {
      "image/png": "[encoded data removed]",
      "text/plain": [
       "<Figure size 432x288 with 1 Axes>"
      ]
     },
     "metadata": {
      "needs_background": "light"
     },
     "output_type": "display_data"
    }
   ],
   "source": [
    "sns.scatterplot(data = df.groupby('bathroomcnt').mean().taxvaluedollarcnt)"
   ]
  },
  {
   "cell_type": "markdown",
   "metadata": {},
   "source": [
    "- averge price by room count"
   ]
  },
  {
   "cell_type": "code",
   "execution_count": 23,
   "metadata": {},
   "outputs": [
    {
     "data": {
      "text/plain": [
       "<matplotlib.axes._subplots.AxesSubplot at 0x1c2c3ea7f0>"
      ]
     },
     "execution_count": 23,
     "metadata": {},
     "output_type": "execute_result"
    },
    {
     "data": {
      "image/png": "[encoded data removed]",
      "text/plain": [
       "<Figure size 432x288 with 1 Axes>"
      ]
     },
     "metadata": {
      "needs_background": "light"
     },
     "output_type": "display_data"
    }
   ],
   "source": [
    "sns.scatterplot(data = df.groupby('roomcnt').mean().taxvaluedollarcnt)"
   ]
  },
  {
   "cell_type": "markdown",
   "metadata": {},
   "source": [
    "- average price by lot size\n",
    "- does not appeat to have a strong linear coorelation"
   ]
  },
  {
   "cell_type": "code",
   "execution_count": 24,
   "metadata": {},
   "outputs": [
    {
     "data": {
      "text/plain": [
       "<matplotlib.axes._subplots.AxesSubplot at 0x1c2c4d9ba8>"
      ]
     },
     "execution_count": 24,
     "metadata": {},
     "output_type": "execute_result"
    },
    {
     "data": {
      "image/png": "[encoded data removed]",
      "text/plain": [
       "<Figure size 432x288 with 1 Axes>"
      ]
     },
     "metadata": {
      "needs_background": "light"
     },
     "output_type": "display_data"
    }
   ],
   "source": [
    "sns.scatterplot(data = df.groupby('lotsizesquarefeet').mean().taxvaluedollarcnt)"
   ]
  },
  {
   "cell_type": "code",
   "execution_count": null,
   "metadata": {},
   "outputs": [],
   "source": []
  },
  {
   "cell_type": "markdown",
   "metadata": {},
   "source": [
    "## Feature Engineering"
   ]
  },
  {
   "cell_type": "code",
   "execution_count": 25,
   "metadata": {},
   "outputs": [],
   "source": [
    "train, test = ss.split_my_data(df)"
   ]
  },
  {
   "cell_type": "code",
   "execution_count": 26,
   "metadata": {},
   "outputs": [
    {
     "data": {
      "text/html": [
       "<div>\n",
       "<style scoped>\n",
       "    .dataframe tbody tr th:only-of-type {\n",
       "        vertical-align: middle;\n",
       "    }\n",
       "\n",
       "    .dataframe tbody tr th {\n",
       "        vertical-align: top;\n",
       "    }\n",
       "\n",
       "    .dataframe thead th {\n",
       "        text-align: right;\n",
       "    }\n",
       "</style>\n",
       "<table border=\"1\" class=\"dataframe\">\n",
       "  <thead>\n",
       "    <tr style=\"text-align: right;\">\n",
       "      <th></th>\n",
       "      <th>bathroomcnt</th>\n",
       "      <th>bedroomcnt</th>\n",
       "      <th>calculatedfinishedsquarefeet</th>\n",
       "      <th>latitude</th>\n",
       "      <th>longitude</th>\n",
       "      <th>lotsizesquarefeet</th>\n",
       "      <th>roomcnt</th>\n",
       "      <th>yearbuilt</th>\n",
       "      <th>taxvaluedollarcnt</th>\n",
       "      <th>has_pool</th>\n",
       "      <th>has_yardbuilding</th>\n",
       "      <th>has_fireplace</th>\n",
       "      <th>has_basement</th>\n",
       "      <th>has_garage</th>\n",
       "    </tr>\n",
       "  </thead>\n",
       "  <tbody>\n",
       "    <tr>\n",
       "      <th>5712</th>\n",
       "      <td>1.0</td>\n",
       "      <td>2.0</td>\n",
       "      <td>951.0</td>\n",
       "      <td>33799245.0</td>\n",
       "      <td>-118131330.0</td>\n",
       "      <td>6593.0</td>\n",
       "      <td>0.0</td>\n",
       "      <td>1954.0</td>\n",
       "      <td>445887.0</td>\n",
       "      <td>0</td>\n",
       "      <td>0</td>\n",
       "      <td>0</td>\n",
       "      <td>0</td>\n",
       "      <td>0</td>\n",
       "    </tr>\n",
       "    <tr>\n",
       "      <th>8156</th>\n",
       "      <td>3.0</td>\n",
       "      <td>4.0</td>\n",
       "      <td>2773.0</td>\n",
       "      <td>34253354.0</td>\n",
       "      <td>-118608821.0</td>\n",
       "      <td>7504.0</td>\n",
       "      <td>0.0</td>\n",
       "      <td>1978.0</td>\n",
       "      <td>506508.0</td>\n",
       "      <td>1</td>\n",
       "      <td>0</td>\n",
       "      <td>0</td>\n",
       "      <td>0</td>\n",
       "      <td>0</td>\n",
       "    </tr>\n",
       "    <tr>\n",
       "      <th>6864</th>\n",
       "      <td>3.0</td>\n",
       "      <td>3.0</td>\n",
       "      <td>2154.0</td>\n",
       "      <td>34174378.0</td>\n",
       "      <td>-118643702.0</td>\n",
       "      <td>12236.0</td>\n",
       "      <td>0.0</td>\n",
       "      <td>1960.0</td>\n",
       "      <td>396208.0</td>\n",
       "      <td>1</td>\n",
       "      <td>0</td>\n",
       "      <td>0</td>\n",
       "      <td>0</td>\n",
       "      <td>0</td>\n",
       "    </tr>\n",
       "    <tr>\n",
       "      <th>124</th>\n",
       "      <td>2.0</td>\n",
       "      <td>3.0</td>\n",
       "      <td>1520.0</td>\n",
       "      <td>33735811.0</td>\n",
       "      <td>-118299299.0</td>\n",
       "      <td>5402.0</td>\n",
       "      <td>0.0</td>\n",
       "      <td>1929.0</td>\n",
       "      <td>299491.0</td>\n",
       "      <td>0</td>\n",
       "      <td>0</td>\n",
       "      <td>0</td>\n",
       "      <td>0</td>\n",
       "      <td>0</td>\n",
       "    </tr>\n",
       "    <tr>\n",
       "      <th>17218</th>\n",
       "      <td>3.0</td>\n",
       "      <td>3.0</td>\n",
       "      <td>1460.0</td>\n",
       "      <td>34216600.0</td>\n",
       "      <td>-118242000.0</td>\n",
       "      <td>31239.0</td>\n",
       "      <td>0.0</td>\n",
       "      <td>1982.0</td>\n",
       "      <td>471800.0</td>\n",
       "      <td>1</td>\n",
       "      <td>0</td>\n",
       "      <td>0</td>\n",
       "      <td>0</td>\n",
       "      <td>0</td>\n",
       "    </tr>\n",
       "  </tbody>\n",
       "</table>\n",
       "</div>"
      ],
      "text/plain": [
       "       bathroomcnt  bedroomcnt  calculatedfinishedsquarefeet    latitude  \\\n",
       "5712           1.0         2.0                         951.0  33799245.0   \n",
       "8156           3.0         4.0                        2773.0  34253354.0   \n",
       "6864           3.0         3.0                        2154.0  34174378.0   \n",
       "124            2.0         3.0                        1520.0  33735811.0   \n",
       "17218          3.0         3.0                        1460.0  34216600.0   \n",
       "\n",
       "         longitude  lotsizesquarefeet  roomcnt  yearbuilt  taxvaluedollarcnt  \\\n",
       "5712  -118131330.0             6593.0      0.0     1954.0           445887.0   \n",
       "8156  -118608821.0             7504.0      0.0     1978.0           506508.0   \n",
       "6864  -118643702.0            12236.0      0.0     1960.0           396208.0   \n",
       "124   -118299299.0             5402.0      0.0     1929.0           299491.0   \n",
       "17218 -118242000.0            31239.0      0.0     1982.0           471800.0   \n",
       "\n",
       "       has_pool  has_yardbuilding  has_fireplace  has_basement  has_garage  \n",
       "5712          0                 0              0             0           0  \n",
       "8156          1                 0              0             0           0  \n",
       "6864          1                 0              0             0           0  \n",
       "124           0                 0              0             0           0  \n",
       "17218         1                 0              0             0           0  "
      ]
     },
     "execution_count": 26,
     "metadata": {},
     "output_type": "execute_result"
    }
   ],
   "source": [
    "train.head()"
   ]
  },
  {
   "cell_type": "code",
   "execution_count": 29,
   "metadata": {},
   "outputs": [
    {
     "data": {
      "text/plain": [
       "bathroomcnt                       0.000000\n",
       "bedroomcnt                       -0.000000\n",
       "calculatedfinishedsquarefeet    351.170101\n",
       "latitude                         -0.441880\n",
       "longitude                        -0.245579\n",
       "lotsizesquarefeet                 0.086533\n",
       "roomcnt                          -0.000000\n",
       "yearbuilt                         0.000000\n",
       "has_pool                          0.000000\n",
       "has_yardbuilding                 -0.000000\n",
       "has_fireplace                    -0.000000\n",
       "has_basement                     -0.000000\n",
       "has_garage                       -0.000000\n",
       "dtype: float64"
      ]
     },
     "execution_count": 29,
     "metadata": {},
     "output_type": "execute_result"
    }
   ],
   "source": [
    "feat.lasso_cv_coef(train[feature], train[target])"
   ]
  },
  {
   "cell_type": "code",
   "execution_count": 30,
   "metadata": {},
   "outputs": [
    {
     "data": {
      "text/plain": [
       "['bathroomcnt',\n",
       " 'bedroomcnt',\n",
       " 'calculatedfinishedsquarefeet',\n",
       " 'latitude',\n",
       " 'longitude',\n",
       " 'lotsizesquarefeet',\n",
       " 'roomcnt',\n",
       " 'yearbuilt',\n",
       " 'has_pool',\n",
       " 'has_garage']"
      ]
     },
     "execution_count": 30,
     "metadata": {},
     "output_type": "execute_result"
    }
   ],
   "source": [
    "feat.ols_backward_elimination(train[feature], train[target])"
   ]
  },
  {
   "cell_type": "code",
   "execution_count": 31,
   "metadata": {},
   "outputs": [
    {
     "data": {
      "text/plain": [
       "Index(['bathroomcnt', 'bedroomcnt', 'calculatedfinishedsquarefeet', 'latitude',\n",
       "       'longitude', 'roomcnt', 'yearbuilt', 'has_pool', 'has_yardbuilding',\n",
       "       'has_fireplace', 'has_basement', 'has_garage'],\n",
       "      dtype='object')"
      ]
     },
     "execution_count": 31,
     "metadata": {},
     "output_type": "execute_result"
    }
   ],
   "source": [
    "_,_, features = feat.recursive_feature_elimination(feature, target, df)\n",
    "features"
   ]
  },
  {
   "cell_type": "markdown",
   "metadata": {},
   "source": [
    "- same tests but this time: scaled data"
   ]
  },
  {
   "cell_type": "code",
   "execution_count": 35,
   "metadata": {},
   "outputs": [],
   "source": [
    "scaler ,trainx_scaled, testx_scaled = ss.standard_scaler(train[features], test[features])"
   ]
  },
  {
   "cell_type": "code",
   "execution_count": 36,
   "metadata": {},
   "outputs": [
    {
     "data": {
      "text/plain": [
       "bathroomcnt                     111790.890508\n",
       "bedroomcnt                     -106486.817630\n",
       "calculatedfinishedsquarefeet    359318.725474\n",
       "latitude                       -121224.857177\n",
       "longitude                       -85688.396886\n",
       "roomcnt                         -28281.038644\n",
       "yearbuilt                       -23032.793816\n",
       "has_pool                         19175.830611\n",
       "has_yardbuilding                 -4831.400407\n",
       "has_fireplace                   -15635.143359\n",
       "has_basement                      -741.135338\n",
       "has_garage                       -7780.409584\n",
       "dtype: float64"
      ]
     },
     "execution_count": 36,
     "metadata": {},
     "output_type": "execute_result"
    }
   ],
   "source": [
    "feat.lasso_cv_coef(trainx_scaled, train[target])"
   ]
  },
  {
   "cell_type": "code",
   "execution_count": 38,
   "metadata": {},
   "outputs": [
    {
     "data": {
      "text/plain": [
       "['bathroomcnt',\n",
       " 'bedroomcnt',\n",
       " 'calculatedfinishedsquarefeet',\n",
       " 'latitude',\n",
       " 'longitude',\n",
       " 'roomcnt',\n",
       " 'yearbuilt',\n",
       " 'has_pool',\n",
       " 'has_fireplace']"
      ]
     },
     "execution_count": 38,
     "metadata": {},
     "output_type": "execute_result"
    }
   ],
   "source": [
    "feature = feat.ols_backward_elimination(trainx_scaled, train[target])\n",
    "feature"
   ]
  },
  {
   "cell_type": "markdown",
   "metadata": {},
   "source": [
    "## Model"
   ]
  },
  {
   "cell_type": "code",
   "execution_count": null,
   "metadata": {},
   "outputs": [],
   "source": []
  }
 ],
 "metadata": {
  "kernelspec": {
   "display_name": "Python 3",
   "language": "python",
   "name": "python3"
  },
  "language_info": {
   "codemirror_mode": {
    "name": "ipython",
    "version": 3
   },
   "file_extension": ".py",
   "mimetype": "text/x-python",
   "name": "python",
   "nbconvert_exporter": "python",
   "pygments_lexer": "ipython3",
   "version": "3.7.3"
  }
 },
 "nbformat": 4,
 "nbformat_minor": 2
}
